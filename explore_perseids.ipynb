{
 "cells": [
  {
   "cell_type": "code",
   "execution_count": 1,
   "metadata": {},
   "outputs": [],
   "source": [
    "import numpy as np\n",
    "import astropy.units as u\n",
    "from astropy.time import Time\n",
    "import matplotlib.pyplot as plt\n",
    "import numpy as np"
   ]
  },
  {
   "cell_type": "code",
   "execution_count": 2,
   "metadata": {},
   "outputs": [],
   "source": [
    "from astropy.coordinates import EarthLocation, AltAz"
   ]
  },
  {
   "cell_type": "code",
   "execution_count": 3,
   "metadata": {},
   "outputs": [],
   "source": [
    "import pandas as pd"
   ]
  },
  {
   "cell_type": "code",
   "execution_count": 4,
   "metadata": {},
   "outputs": [],
   "source": [
    "import seaborn as sns"
   ]
  },
  {
   "cell_type": "code",
   "execution_count": 5,
   "metadata": {},
   "outputs": [],
   "source": [
    "aartfaac = EarthLocation(\n",
    "    EarthLocation(lat=52.9153 * u.deg, lon=6.8698 * u.deg, height=20 * u.m)\n",
    ")"
   ]
  },
  {
   "cell_type": "code",
   "execution_count": 6,
   "metadata": {},
   "outputs": [],
   "source": [
    "camsdata = pd.read_fwf(\n",
    "    \"../felix2/SummaryMeteorLog CAMS Benelux 120820 .txt\",\n",
    "    index_col=0,\n",
    "    header=[0, 1],\n",
    "    skip_blank_lines=True,\n",
    "    skiprows=[2],\n",
    "    skipinitialspace=True,\n",
    ")"
   ]
  },
  {
   "cell_type": "code",
   "execution_count": 7,
   "metadata": {},
   "outputs": [],
   "source": [
    "camsdata.columns = [\n",
    "    \" \".join(col) if isinstance(col, tuple) else col for col in camsdata.columns\n",
    "]"
   ]
  },
  {
   "cell_type": "code",
   "execution_count": 8,
   "metadata": {},
   "outputs": [],
   "source": [
    "camsdata[\"astropytime_beg\"] = (\n",
    "    Time(list(camsdata[\"Observed Date\"] + \" \" + camsdata[\"Ref Time UT\"]))\n",
    "    + np.array(camsdata[\"Tbeg sec\"]) * u.s\n",
    ")\n",
    "camsdata[\"astropytime_end\"] = (\n",
    "    Time(list(camsdata[\"Observed Date\"] + \" \" + camsdata[\"Ref Time UT\"]))\n",
    "    + np.array(camsdata[\"Tend sec\"]) * u.s\n",
    ")"
   ]
  },
  {
   "cell_type": "code",
   "execution_count": 9,
   "metadata": {},
   "outputs": [
    {
     "data": {
      "text/plain": [
       "Index(['Observed Date', 'Ref Time UT', 'Tbeg sec', 'Tend sec', 'RAinf deg',\n",
       "       '+/- sigma', 'DECinf deg', '('+/-', 'sigma').1', 'Vinf km/sec',\n",
       "       '('+/-', 'sigma').2', 'Acc1 Unnamed: 11_level_1', '('+/-', 'sigma').3',\n",
       "       'Acc2 Unnamed: 13_level_1', '('+/-', 'sigma').4', 'LatBeg +N deg',\n",
       "       '('+/-', 'sigma').5', 'LonBeg +E deg', '('+/-', 'sigma').6', 'Hbeg km',\n",
       "       '('+/-', 'sigma').7', 'LatEnd +N deg', '('+/-', 'sigma').8',\n",
       "       'LonEnd +E deg', '('+/-', 'sigma').9', 'Hend km', '('+/-', 'sigma').10',\n",
       "       'Conv deg', 'S-Azim +W deg', 'ZenAng deg', 'Hmax km', 'Max-mV mag',\n",
       "       'Int-mV mag', 'F-skew Hratio', 'Cameras Contributing',\n",
       "       'astropytime_beg', 'astropytime_end'],\n",
       "      dtype='object')"
      ]
     },
     "execution_count": 9,
     "metadata": {},
     "output_type": "execute_result"
    }
   ],
   "source": [
    "camsdata.columns"
   ]
  },
  {
   "cell_type": "code",
   "execution_count": 10,
   "metadata": {},
   "outputs": [],
   "source": [
    "aartfaac_altaz = AltAz(\n",
    "    location=EarthLocation(\n",
    "        lat=camsdata[\"LatBeg +N deg\"].values * u.deg,\n",
    "        lon=camsdata[\"LonBeg +E deg\"].values * u.deg,\n",
    "    ),\n",
    "    distance=camsdata[\"Hbeg km\"].values * u.km,\n",
    "    az=0 * u.deg,\n",
    "    alt=90 * u.deg,\n",
    "    obstime=camsdata[\"astropytime_beg\"]\n",
    ").transform_to(AltAz(location=aartfaac, obstime=camsdata[\"astropytime_beg\"]))"
   ]
  },
  {
   "cell_type": "code",
   "execution_count": 11,
   "metadata": {},
   "outputs": [],
   "source": [
    "camsdata[\"aartfaac_alt deg\"] = aartfaac_altaz.alt.deg"
   ]
  },
  {
   "cell_type": "code",
   "execution_count": 12,
   "metadata": {},
   "outputs": [],
   "source": [
    "# Remove duplicates from camsdata\n",
    "camsdata = camsdata.drop([58, 72, 172, 515, 528, 690])"
   ]
  },
  {
   "cell_type": "code",
   "execution_count": 13,
   "metadata": {},
   "outputs": [],
   "source": [
    "camsdata = camsdata.join(pd.read_csv(\"aartfaac-cams-matches.csv\", index_col=0))\n",
    "camsdata = camsdata.join(pd.read_csv(\"sap0-cams-matches.csv\", index_col=0))\n",
    "camsdata = camsdata.join(pd.read_csv(\"sap1-cams-matches.csv\", index_col=0))"
   ]
  },
  {
   "cell_type": "code",
   "execution_count": 14,
   "metadata": {},
   "outputs": [
    {
     "data": {
      "text/plain": [
       "Index(['Observed Date', 'Ref Time UT', 'Tbeg sec', 'Tend sec', 'RAinf deg',\n",
       "       '+/- sigma', 'DECinf deg', '('+/-', 'sigma').1', 'Vinf km/sec',\n",
       "       '('+/-', 'sigma').2', 'Acc1 Unnamed: 11_level_1', '('+/-', 'sigma').3',\n",
       "       'Acc2 Unnamed: 13_level_1', '('+/-', 'sigma').4', 'LatBeg +N deg',\n",
       "       '('+/-', 'sigma').5', 'LonBeg +E deg', '('+/-', 'sigma').6', 'Hbeg km',\n",
       "       '('+/-', 'sigma').7', 'LatEnd +N deg', '('+/-', 'sigma').8',\n",
       "       'LonEnd +E deg', '('+/-', 'sigma').9', 'Hend km', '('+/-', 'sigma').10',\n",
       "       'Conv deg', 'S-Azim +W deg', 'ZenAng deg', 'Hmax km', 'Max-mV mag',\n",
       "       'Int-mV mag', 'F-skew Hratio', 'Cameras Contributing',\n",
       "       'astropytime_beg', 'astropytime_end', 'aartfaac_alt deg', 'AARTFAAC',\n",
       "       'AARTFAAC_duration', 'SAP0_match', 'SAP1_match'],\n",
       "      dtype='object')"
      ]
     },
     "execution_count": 14,
     "metadata": {},
     "output_type": "execute_result"
    }
   ],
   "source": [
    "camsdata.columns"
   ]
  },
  {
   "cell_type": "code",
   "execution_count": 15,
   "metadata": {},
   "outputs": [
    {
     "data": {
      "text/html": [
       "<div>\n",
       "<style scoped>\n",
       "    .dataframe tbody tr th:only-of-type {\n",
       "        vertical-align: middle;\n",
       "    }\n",
       "\n",
       "    .dataframe tbody tr th {\n",
       "        vertical-align: top;\n",
       "    }\n",
       "\n",
       "    .dataframe thead th {\n",
       "        text-align: right;\n",
       "    }\n",
       "</style>\n",
       "<table border=\"1\" class=\"dataframe\">\n",
       "  <thead>\n",
       "    <tr style=\"text-align: right;\">\n",
       "      <th></th>\n",
       "      <th>astropytime_beg</th>\n",
       "      <th>Max-mV mag</th>\n",
       "      <th>AARTFAAC_duration</th>\n",
       "      <th>SAP0_match</th>\n",
       "      <th>SAP1_match</th>\n",
       "    </tr>\n",
       "  </thead>\n",
       "  <tbody>\n",
       "    <tr>\n",
       "      <th>77</th>\n",
       "      <td>2020-08-12 21:25:48.310</td>\n",
       "      <td>-17.7</td>\n",
       "      <td>132.0</td>\n",
       "      <td>1.0</td>\n",
       "      <td>2.0</td>\n",
       "    </tr>\n",
       "    <tr>\n",
       "      <th>123</th>\n",
       "      <td>2020-08-12 21:57:18.680</td>\n",
       "      <td>-10.8</td>\n",
       "      <td>84.0</td>\n",
       "      <td>2.0</td>\n",
       "      <td>2.0</td>\n",
       "    </tr>\n",
       "    <tr>\n",
       "      <th>241</th>\n",
       "      <td>2020-08-12 23:03:30.080</td>\n",
       "      <td>-6.3</td>\n",
       "      <td>122.0</td>\n",
       "      <td>2.0</td>\n",
       "      <td>2.0</td>\n",
       "    </tr>\n",
       "    <tr>\n",
       "      <th>309</th>\n",
       "      <td>2020-08-12 23:36:05.410</td>\n",
       "      <td>-4.3</td>\n",
       "      <td>90.0</td>\n",
       "      <td>1.0</td>\n",
       "      <td>NaN</td>\n",
       "    </tr>\n",
       "    <tr>\n",
       "      <th>319</th>\n",
       "      <td>2020-08-12 23:44:07.300</td>\n",
       "      <td>-4.1</td>\n",
       "      <td>108.0</td>\n",
       "      <td>2.0</td>\n",
       "      <td>2.0</td>\n",
       "    </tr>\n",
       "    <tr>\n",
       "      <th>352</th>\n",
       "      <td>2020-08-13 00:11:26.200</td>\n",
       "      <td>-7.0</td>\n",
       "      <td>396.0</td>\n",
       "      <td>2.0</td>\n",
       "      <td>2.0</td>\n",
       "    </tr>\n",
       "    <tr>\n",
       "      <th>527</th>\n",
       "      <td>2020-08-13 01:41:22.920</td>\n",
       "      <td>-22.7</td>\n",
       "      <td>94.0</td>\n",
       "      <td>1.0</td>\n",
       "      <td>1.0</td>\n",
       "    </tr>\n",
       "    <tr>\n",
       "      <th>527</th>\n",
       "      <td>2020-08-13 01:41:22.920</td>\n",
       "      <td>-22.7</td>\n",
       "      <td>94.0</td>\n",
       "      <td>1.0</td>\n",
       "      <td>2.0</td>\n",
       "    </tr>\n",
       "    <tr>\n",
       "      <th>698</th>\n",
       "      <td>2020-08-13 02:57:38.180</td>\n",
       "      <td>-10.3</td>\n",
       "      <td>122.0</td>\n",
       "      <td>1.0</td>\n",
       "      <td>2.0</td>\n",
       "    </tr>\n",
       "    <tr>\n",
       "      <th>716</th>\n",
       "      <td>2020-08-13 03:07:45.660</td>\n",
       "      <td>-5.4</td>\n",
       "      <td>108.0</td>\n",
       "      <td>NaN</td>\n",
       "      <td>1.0</td>\n",
       "    </tr>\n",
       "    <tr>\n",
       "      <th>718</th>\n",
       "      <td>2020-08-13 03:09:16.520</td>\n",
       "      <td>-3.8</td>\n",
       "      <td>62.0</td>\n",
       "      <td>2.0</td>\n",
       "      <td>2.0</td>\n",
       "    </tr>\n",
       "    <tr>\n",
       "      <th>732</th>\n",
       "      <td>2020-08-13 03:21:07.440</td>\n",
       "      <td>-2.0</td>\n",
       "      <td>72.0</td>\n",
       "      <td>NaN</td>\n",
       "      <td>NaN</td>\n",
       "    </tr>\n",
       "  </tbody>\n",
       "</table>\n",
       "</div>"
      ],
      "text/plain": [
       "             astropytime_beg  Max-mV mag  AARTFAAC_duration  SAP0_match  \\\n",
       "77   2020-08-12 21:25:48.310       -17.7              132.0         1.0   \n",
       "123  2020-08-12 21:57:18.680       -10.8               84.0         2.0   \n",
       "241  2020-08-12 23:03:30.080        -6.3              122.0         2.0   \n",
       "309  2020-08-12 23:36:05.410        -4.3               90.0         1.0   \n",
       "319  2020-08-12 23:44:07.300        -4.1              108.0         2.0   \n",
       "352  2020-08-13 00:11:26.200        -7.0              396.0         2.0   \n",
       "527  2020-08-13 01:41:22.920       -22.7               94.0         1.0   \n",
       "527  2020-08-13 01:41:22.920       -22.7               94.0         1.0   \n",
       "698  2020-08-13 02:57:38.180       -10.3              122.0         1.0   \n",
       "716  2020-08-13 03:07:45.660        -5.4              108.0         NaN   \n",
       "718  2020-08-13 03:09:16.520        -3.8               62.0         2.0   \n",
       "732  2020-08-13 03:21:07.440        -2.0               72.0         NaN   \n",
       "\n",
       "     SAP1_match  \n",
       "77          2.0  \n",
       "123         2.0  \n",
       "241         2.0  \n",
       "309         NaN  \n",
       "319         2.0  \n",
       "352         2.0  \n",
       "527         1.0  \n",
       "527         2.0  \n",
       "698         2.0  \n",
       "716         1.0  \n",
       "718         2.0  \n",
       "732         NaN  "
      ]
     },
     "execution_count": 15,
     "metadata": {},
     "output_type": "execute_result"
    }
   ],
   "source": [
    "# Trails longer than 60 seconds\n",
    "camsdata[camsdata[\"AARTFAAC_duration\"] > 60][\n",
    "    [\"astropytime_beg\", \"Max-mV mag\", \"AARTFAAC_duration\", \"SAP0_match\", \"SAP1_match\"]\n",
    "]"
   ]
  },
  {
   "cell_type": "code",
   "execution_count": 16,
   "metadata": {},
   "outputs": [
    {
     "data": {
      "text/plain": [
       "'[52, 54, 57, 59, 60, 65, 66, 74, 75, 77, 82, 92, 101, 102, 103, 115, 123, 128, 142, 144, 146, 147, 151, 154, 175, 235, 241, 249, 253, 254, 255, 263, 270, 276, 277, 278, 283, 285, 288, 295, 296, 297, 309, 315, 317, 319, 320, 322, 323, 327, 329, 332, 333, 344, 351, 352, 353, 360, 361, 369, 370, 374, 377, 385, 391, 393, 404, 408, 411, 417, 418, 419, 436, 437, 440, 447, 452, 454, 471, 480, 484, 485, 489, 491, 492, 495, 497, 501, 505, 507, 509, 514, 516, 517, 524, 527, 527, 529, 535, 537, 545, 549, 554, 556, 561, 565, 573, 579, 589, 596, 598, 600, 601, 605, 612, 614, 616, 617, 635, 638, 639, 641, 643, 644, 645, 647, 659, 661, 671, 677, 679, 683, 688, 692, 696, 698, 702, 704, 705, 706, 707, 714, 716, 718, 719, 723, 726, 729, 732, 735, 736, 737]'"
      ]
     },
     "execution_count": 16,
     "metadata": {},
     "output_type": "execute_result"
    }
   ],
   "source": [
    "# CAMS IDs of meteors visible longer than 3 seconds\n",
    "str(list(camsdata[camsdata[\"AARTFAAC_duration\"] > 3].index))"
   ]
  },
  {
   "cell_type": "code",
   "execution_count": 17,
   "metadata": {},
   "outputs": [
    {
     "data": {
      "text/plain": [
       "9.11014725749413"
      ]
     },
     "execution_count": 17,
     "metadata": {},
     "output_type": "execute_result"
    }
   ],
   "source": [
    "camsdata[\"Vinf km/sec\"].std()"
   ]
  },
  {
   "cell_type": "code",
   "execution_count": 18,
   "metadata": {},
   "outputs": [],
   "source": [
    "camsdata[\"Is_Perseid\"] = (\n",
    "    (camsdata[\"Vinf km/sec\"] > 60.0 - 15)\n",
    "    & (camsdata[\"Vinf km/sec\"] < 60.0 + 15)\n",
    "    & (camsdata[\"DECinf deg\"] > 58.12 - 10)\n",
    "    & (camsdata[\"DECinf deg\"] < 58.12 + 10)\n",
    "    & (camsdata[\"RAinf deg\"] > 48.14 - 10)\n",
    "    & (camsdata[\"RAinf deg\"] < 48.14 + 10)\n",
    ")"
   ]
  },
  {
   "cell_type": "code",
   "execution_count": 19,
   "metadata": {},
   "outputs": [
    {
     "data": {
      "text/html": [
       "<div>\n",
       "<style scoped>\n",
       "    .dataframe tbody tr th:only-of-type {\n",
       "        vertical-align: middle;\n",
       "    }\n",
       "\n",
       "    .dataframe tbody tr th {\n",
       "        vertical-align: top;\n",
       "    }\n",
       "\n",
       "    .dataframe thead th {\n",
       "        text-align: right;\n",
       "    }\n",
       "</style>\n",
       "<table border=\"1\" class=\"dataframe\">\n",
       "  <thead>\n",
       "    <tr style=\"text-align: right;\">\n",
       "      <th></th>\n",
       "      <th>astropytime_beg</th>\n",
       "      <th>Max-mV mag</th>\n",
       "      <th>AARTFAAC_duration</th>\n",
       "      <th>SAP0_match</th>\n",
       "      <th>SAP1_match</th>\n",
       "    </tr>\n",
       "  </thead>\n",
       "  <tbody>\n",
       "    <tr>\n",
       "      <th>123</th>\n",
       "      <td>2020-08-12 21:57:18.680</td>\n",
       "      <td>-10.8</td>\n",
       "      <td>84.0</td>\n",
       "      <td>2.0</td>\n",
       "      <td>2.0</td>\n",
       "    </tr>\n",
       "    <tr>\n",
       "      <th>514</th>\n",
       "      <td>2020-08-13 01:35:07.720</td>\n",
       "      <td>-5.4</td>\n",
       "      <td>14.0</td>\n",
       "      <td>NaN</td>\n",
       "      <td>NaN</td>\n",
       "    </tr>\n",
       "    <tr>\n",
       "      <th>529</th>\n",
       "      <td>2020-08-13 01:41:49.820</td>\n",
       "      <td>-2.1</td>\n",
       "      <td>32.0</td>\n",
       "      <td>1.0</td>\n",
       "      <td>1.0</td>\n",
       "    </tr>\n",
       "    <tr>\n",
       "      <th>485</th>\n",
       "      <td>2020-08-13 01:23:14.070</td>\n",
       "      <td>-2.9</td>\n",
       "      <td>6.0</td>\n",
       "      <td>NaN</td>\n",
       "      <td>NaN</td>\n",
       "    </tr>\n",
       "    <tr>\n",
       "      <th>605</th>\n",
       "      <td>2020-08-13 02:18:04.390</td>\n",
       "      <td>-3.5</td>\n",
       "      <td>42.0</td>\n",
       "      <td>NaN</td>\n",
       "      <td>NaN</td>\n",
       "    </tr>\n",
       "    <tr>\n",
       "      <th>377</th>\n",
       "      <td>2020-08-13 00:26:50.230</td>\n",
       "      <td>-2.9</td>\n",
       "      <td>14.0</td>\n",
       "      <td>2.0</td>\n",
       "      <td>2.0</td>\n",
       "    </tr>\n",
       "    <tr>\n",
       "      <th>385</th>\n",
       "      <td>2020-08-13 00:30:49.620</td>\n",
       "      <td>-2.1</td>\n",
       "      <td>14.0</td>\n",
       "      <td>NaN</td>\n",
       "      <td>NaN</td>\n",
       "    </tr>\n",
       "    <tr>\n",
       "      <th>601</th>\n",
       "      <td>2020-08-13 02:16:58.880</td>\n",
       "      <td>-1.0</td>\n",
       "      <td>28.0</td>\n",
       "      <td>2.0</td>\n",
       "      <td>2.0</td>\n",
       "    </tr>\n",
       "    <tr>\n",
       "      <th>524</th>\n",
       "      <td>2020-08-13 01:40:46.240</td>\n",
       "      <td>-1.7</td>\n",
       "      <td>6.0</td>\n",
       "      <td>1.0</td>\n",
       "      <td>1.0</td>\n",
       "    </tr>\n",
       "    <tr>\n",
       "      <th>675</th>\n",
       "      <td>2020-08-13 02:46:28.060</td>\n",
       "      <td>-2.2</td>\n",
       "      <td>2.0</td>\n",
       "      <td>NaN</td>\n",
       "      <td>NaN</td>\n",
       "    </tr>\n",
       "    <tr>\n",
       "      <th>546</th>\n",
       "      <td>2020-08-13 01:46:23.860</td>\n",
       "      <td>-0.8</td>\n",
       "      <td>2.0</td>\n",
       "      <td>2.0</td>\n",
       "      <td>NaN</td>\n",
       "    </tr>\n",
       "    <tr>\n",
       "      <th>501</th>\n",
       "      <td>2020-08-13 01:28:58.120</td>\n",
       "      <td>-1.3</td>\n",
       "      <td>10.0</td>\n",
       "      <td>1.0</td>\n",
       "      <td>1.0</td>\n",
       "    </tr>\n",
       "    <tr>\n",
       "      <th>145</th>\n",
       "      <td>2020-08-12 22:13:11.620</td>\n",
       "      <td>-0.9</td>\n",
       "      <td>2.0</td>\n",
       "      <td>NaN</td>\n",
       "      <td>NaN</td>\n",
       "    </tr>\n",
       "    <tr>\n",
       "      <th>327</th>\n",
       "      <td>2020-08-12 23:51:03.830</td>\n",
       "      <td>0.8</td>\n",
       "      <td>10.0</td>\n",
       "      <td>1.0</td>\n",
       "      <td>1.0</td>\n",
       "    </tr>\n",
       "    <tr>\n",
       "      <th>659</th>\n",
       "      <td>2020-08-13 02:38:10.240</td>\n",
       "      <td>0.0</td>\n",
       "      <td>6.0</td>\n",
       "      <td>NaN</td>\n",
       "      <td>NaN</td>\n",
       "    </tr>\n",
       "    <tr>\n",
       "      <th>50</th>\n",
       "      <td>2020-08-12 21:07:28.100</td>\n",
       "      <td>1.0</td>\n",
       "      <td>2.0</td>\n",
       "      <td>NaN</td>\n",
       "      <td>NaN</td>\n",
       "    </tr>\n",
       "    <tr>\n",
       "      <th>505</th>\n",
       "      <td>2020-08-13 01:31:06.070</td>\n",
       "      <td>-1.0</td>\n",
       "      <td>4.0</td>\n",
       "      <td>NaN</td>\n",
       "      <td>1.0</td>\n",
       "    </tr>\n",
       "    <tr>\n",
       "      <th>579</th>\n",
       "      <td>2020-08-13 02:02:48.840</td>\n",
       "      <td>-1.2</td>\n",
       "      <td>12.0</td>\n",
       "      <td>NaN</td>\n",
       "      <td>1.0</td>\n",
       "    </tr>\n",
       "    <tr>\n",
       "      <th>682</th>\n",
       "      <td>2020-08-13 02:49:55.490</td>\n",
       "      <td>-0.1</td>\n",
       "      <td>2.0</td>\n",
       "      <td>NaN</td>\n",
       "      <td>1.0</td>\n",
       "    </tr>\n",
       "    <tr>\n",
       "      <th>641</th>\n",
       "      <td>2020-08-13 02:29:23.700</td>\n",
       "      <td>0.2</td>\n",
       "      <td>8.0</td>\n",
       "      <td>NaN</td>\n",
       "      <td>NaN</td>\n",
       "    </tr>\n",
       "    <tr>\n",
       "      <th>393</th>\n",
       "      <td>2020-08-13 00:34:55.500</td>\n",
       "      <td>0.2</td>\n",
       "      <td>4.0</td>\n",
       "      <td>NaN</td>\n",
       "      <td>NaN</td>\n",
       "    </tr>\n",
       "    <tr>\n",
       "      <th>507</th>\n",
       "      <td>2020-08-13 01:32:01.960</td>\n",
       "      <td>-0.0</td>\n",
       "      <td>4.0</td>\n",
       "      <td>NaN</td>\n",
       "      <td>NaN</td>\n",
       "    </tr>\n",
       "    <tr>\n",
       "      <th>704</th>\n",
       "      <td>2020-08-13 03:02:42.400</td>\n",
       "      <td>0.6</td>\n",
       "      <td>18.0</td>\n",
       "      <td>1.0</td>\n",
       "      <td>NaN</td>\n",
       "    </tr>\n",
       "    <tr>\n",
       "      <th>728</th>\n",
       "      <td>2020-08-13 03:14:36.990</td>\n",
       "      <td>0.8</td>\n",
       "      <td>2.0</td>\n",
       "      <td>1.0</td>\n",
       "      <td>1.0</td>\n",
       "    </tr>\n",
       "    <tr>\n",
       "      <th>93</th>\n",
       "      <td>2020-08-12 21:39:54.470</td>\n",
       "      <td>0.7</td>\n",
       "      <td>2.0</td>\n",
       "      <td>NaN</td>\n",
       "      <td>NaN</td>\n",
       "    </tr>\n",
       "    <tr>\n",
       "      <th>497</th>\n",
       "      <td>2020-08-13 01:25:59.870</td>\n",
       "      <td>0.8</td>\n",
       "      <td>4.0</td>\n",
       "      <td>1.0</td>\n",
       "      <td>1.0</td>\n",
       "    </tr>\n",
       "    <tr>\n",
       "      <th>589</th>\n",
       "      <td>2020-08-13 02:10:12.520</td>\n",
       "      <td>1.2</td>\n",
       "      <td>6.0</td>\n",
       "      <td>1.0</td>\n",
       "      <td>1.0</td>\n",
       "    </tr>\n",
       "    <tr>\n",
       "      <th>362</th>\n",
       "      <td>2020-08-13 00:16:41.180</td>\n",
       "      <td>1.1</td>\n",
       "      <td>2.0</td>\n",
       "      <td>NaN</td>\n",
       "      <td>NaN</td>\n",
       "    </tr>\n",
       "    <tr>\n",
       "      <th>603</th>\n",
       "      <td>2020-08-13 02:18:01.300</td>\n",
       "      <td>1.0</td>\n",
       "      <td>2.0</td>\n",
       "      <td>NaN</td>\n",
       "      <td>NaN</td>\n",
       "    </tr>\n",
       "    <tr>\n",
       "      <th>253</th>\n",
       "      <td>2020-08-12 23:09:57.760</td>\n",
       "      <td>1.8</td>\n",
       "      <td>8.0</td>\n",
       "      <td>NaN</td>\n",
       "      <td>NaN</td>\n",
       "    </tr>\n",
       "    <tr>\n",
       "      <th>297</th>\n",
       "      <td>2020-08-12 23:31:00.630</td>\n",
       "      <td>1.4</td>\n",
       "      <td>4.0</td>\n",
       "      <td>1.0</td>\n",
       "      <td>1.0</td>\n",
       "    </tr>\n",
       "    <tr>\n",
       "      <th>481</th>\n",
       "      <td>2020-08-13 01:21:13.170</td>\n",
       "      <td>2.9</td>\n",
       "      <td>2.0</td>\n",
       "      <td>NaN</td>\n",
       "      <td>NaN</td>\n",
       "    </tr>\n",
       "    <tr>\n",
       "      <th>486</th>\n",
       "      <td>2020-08-13 01:23:21.390</td>\n",
       "      <td>1.9</td>\n",
       "      <td>2.0</td>\n",
       "      <td>NaN</td>\n",
       "      <td>NaN</td>\n",
       "    </tr>\n",
       "  </tbody>\n",
       "</table>\n",
       "</div>"
      ],
      "text/plain": [
       "             astropytime_beg  Max-mV mag  AARTFAAC_duration  SAP0_match  \\\n",
       "123  2020-08-12 21:57:18.680       -10.8               84.0         2.0   \n",
       "514  2020-08-13 01:35:07.720        -5.4               14.0         NaN   \n",
       "529  2020-08-13 01:41:49.820        -2.1               32.0         1.0   \n",
       "485  2020-08-13 01:23:14.070        -2.9                6.0         NaN   \n",
       "605  2020-08-13 02:18:04.390        -3.5               42.0         NaN   \n",
       "377  2020-08-13 00:26:50.230        -2.9               14.0         2.0   \n",
       "385  2020-08-13 00:30:49.620        -2.1               14.0         NaN   \n",
       "601  2020-08-13 02:16:58.880        -1.0               28.0         2.0   \n",
       "524  2020-08-13 01:40:46.240        -1.7                6.0         1.0   \n",
       "675  2020-08-13 02:46:28.060        -2.2                2.0         NaN   \n",
       "546  2020-08-13 01:46:23.860        -0.8                2.0         2.0   \n",
       "501  2020-08-13 01:28:58.120        -1.3               10.0         1.0   \n",
       "145  2020-08-12 22:13:11.620        -0.9                2.0         NaN   \n",
       "327  2020-08-12 23:51:03.830         0.8               10.0         1.0   \n",
       "659  2020-08-13 02:38:10.240         0.0                6.0         NaN   \n",
       "50   2020-08-12 21:07:28.100         1.0                2.0         NaN   \n",
       "505  2020-08-13 01:31:06.070        -1.0                4.0         NaN   \n",
       "579  2020-08-13 02:02:48.840        -1.2               12.0         NaN   \n",
       "682  2020-08-13 02:49:55.490        -0.1                2.0         NaN   \n",
       "641  2020-08-13 02:29:23.700         0.2                8.0         NaN   \n",
       "393  2020-08-13 00:34:55.500         0.2                4.0         NaN   \n",
       "507  2020-08-13 01:32:01.960        -0.0                4.0         NaN   \n",
       "704  2020-08-13 03:02:42.400         0.6               18.0         1.0   \n",
       "728  2020-08-13 03:14:36.990         0.8                2.0         1.0   \n",
       "93   2020-08-12 21:39:54.470         0.7                2.0         NaN   \n",
       "497  2020-08-13 01:25:59.870         0.8                4.0         1.0   \n",
       "589  2020-08-13 02:10:12.520         1.2                6.0         1.0   \n",
       "362  2020-08-13 00:16:41.180         1.1                2.0         NaN   \n",
       "603  2020-08-13 02:18:01.300         1.0                2.0         NaN   \n",
       "253  2020-08-12 23:09:57.760         1.8                8.0         NaN   \n",
       "297  2020-08-12 23:31:00.630         1.4                4.0         1.0   \n",
       "481  2020-08-13 01:21:13.170         2.9                2.0         NaN   \n",
       "486  2020-08-13 01:23:21.390         1.9                2.0         NaN   \n",
       "\n",
       "     SAP1_match  \n",
       "123         2.0  \n",
       "514         NaN  \n",
       "529         1.0  \n",
       "485         NaN  \n",
       "605         NaN  \n",
       "377         2.0  \n",
       "385         NaN  \n",
       "601         2.0  \n",
       "524         1.0  \n",
       "675         NaN  \n",
       "546         NaN  \n",
       "501         1.0  \n",
       "145         NaN  \n",
       "327         1.0  \n",
       "659         NaN  \n",
       "50          NaN  \n",
       "505         1.0  \n",
       "579         1.0  \n",
       "682         1.0  \n",
       "641         NaN  \n",
       "393         NaN  \n",
       "507         NaN  \n",
       "704         NaN  \n",
       "728         1.0  \n",
       "93          NaN  \n",
       "497         1.0  \n",
       "589         1.0  \n",
       "362         NaN  \n",
       "603         NaN  \n",
       "253         NaN  \n",
       "297         1.0  \n",
       "481         NaN  \n",
       "486         NaN  "
      ]
     },
     "execution_count": 19,
     "metadata": {},
     "output_type": "execute_result"
    }
   ],
   "source": [
    "camsdata[(~camsdata[\"Is_Perseid\"]) & (camsdata[\"AARTFAAC\"] > 0)].sort_values(\n",
    "    \"Int-mV mag\"\n",
    ")[[\"astropytime_beg\", \"Max-mV mag\", \"AARTFAAC_duration\", \"SAP0_match\", \"SAP1_match\"]]"
   ]
  },
  {
   "cell_type": "code",
   "execution_count": 21,
   "metadata": {},
   "outputs": [
    {
     "data": {
      "image/png": "[encoded data removed]",
      "text/plain": [
       "<Figure size 360x360 with 1 Axes>"
      ]
     },
     "metadata": {
      "needs_background": "light"
     },
     "output_type": "display_data"
    }
   ],
   "source": [
    "sns.displot(\n",
    "    camsdata[camsdata[\"AARTFAAC_duration\"] > 2][\"aartfaac_alt deg\"], bins=np.arange(14,90,2)\n",
    ")\n",
    "plt.title(\"Elevation of (start of) AARTFAAC meteors with duration > 2 sec\");"
   ]
  },
  {
   "cell_type": "code",
   "execution_count": 22,
   "metadata": {},
   "outputs": [
    {
     "data": {
      "image/png": "[encoded data removed]",
      "text/plain": [
       "<Figure size 360x360 with 1 Axes>"
      ]
     },
     "metadata": {
      "needs_background": "light"
     },
     "output_type": "display_data"
    }
   ],
   "source": [
    "sns.displot(\n",
    "    camsdata[\n",
    "        camsdata[\"AARTFAAC_duration\"].notnull() & (camsdata[\"AARTFAAC_duration\"] > 2)\n",
    "    ],\n",
    "    x=\"AARTFAAC_duration\",\n",
    ")\n",
    "plt.title(\"Duration of AARTFAAC meteors\");"
   ]
  },
  {
   "cell_type": "code",
   "execution_count": 23,
   "metadata": {},
   "outputs": [],
   "source": [
    "aartfaacmatch = camsdata[\"AARTFAAC\"] > 0\n",
    "camsdata[\"AARTFAAC_match\"] = False\n",
    "camsdata.loc[aartfaacmatch, \"AARTFAAC_match\"] = \"With AARTFAAC match\""
   ]
  },
  {
   "cell_type": "code",
   "execution_count": 24,
   "metadata": {},
   "outputs": [
    {
     "data": {
      "image/png": "[encoded data removed]",
      "text/plain": [
       "<Figure size 720x360 with 2 Axes>"
      ]
     },
     "metadata": {
      "needs_background": "light"
     },
     "output_type": "display_data"
    }
   ],
   "source": [
    "g = sns.displot(\n",
    "    camsdata[camsdata[\"Is_Perseid\"]], x=\"Hend km\", col=\"AARTFAAC_match\", kde=True\n",
    ")\n",
    "g.set_titles(\"{col_name}\")\n",
    "plt.suptitle(\"Perseids only\");"
   ]
  },
  {
   "cell_type": "code",
   "execution_count": 25,
   "metadata": {},
   "outputs": [
    {
     "data": {
      "image/png": "[encoded data removed]",
      "text/plain": [
       "<Figure size 1440x360 with 4 Axes>"
      ]
     },
     "metadata": {
      "needs_background": "light"
     },
     "output_type": "display_data"
    }
   ],
   "source": [
    "g = sns.displot(\n",
    "    camsdata[~camsdata[\"Is_Perseid\"]], x=\"Hend km\", col=\"AARTFAAC\", kde=True\n",
    ")\n",
    "g.set_titles(\"{col_name}\")\n",
    "plt.suptitle(\"Non-Perseids only\");"
   ]
  },
  {
   "cell_type": "code",
   "execution_count": 26,
   "metadata": {},
   "outputs": [
    {
     "data": {
      "text/plain": [
       "AARTFAAC_match       Is_Perseid\n",
       "False                False         109\n",
       "                     True          403\n",
       "With AARTFAAC match  False          33\n",
       "                     True          173\n",
       "dtype: int64"
      ]
     },
     "execution_count": 26,
     "metadata": {},
     "output_type": "execute_result"
    }
   ],
   "source": [
    "camsdata.groupby([\"AARTFAAC_match\", \"Is_Perseid\"]).size()"
   ]
  },
  {
   "cell_type": "code",
   "execution_count": 27,
   "metadata": {},
   "outputs": [
    {
     "data": {
      "image/png": "[encoded data removed]",
      "text/plain": [
       "<Figure size 422.125x360 with 1 Axes>"
      ]
     },
     "metadata": {
      "needs_background": "light"
     },
     "output_type": "display_data"
    }
   ],
   "source": [
    "camsdata.loc[camsdata[\"Int-mV mag\"] < -10, \"Int-mV mag\"] = -10\n",
    "sns.relplot(x=\"Int-mV mag\", y=\"AARTFAAC_duration\", data=camsdata, hue=\"Is_Perseid\")\n",
    "plt.ylim(0, 150);"
   ]
  },
  {
   "cell_type": "code",
   "execution_count": 28,
   "metadata": {},
   "outputs": [],
   "source": [
    "cameralist = ''.join(camsdata[\"Cameras Contributing\"].values).split('_')[1:]\n",
    "meteors_per_camera = {camera: cameralist.count(camera) for camera in cameralist}"
   ]
  },
  {
   "cell_type": "code",
   "execution_count": 29,
   "metadata": {},
   "outputs": [
    {
     "data": {
      "text/plain": [
       "\"000808','003030','000888','000807','000325','000810','000384','000378','000806','000396','003036','000327','000323','003161','003001','000804','000352','003037','003166','003165','000379','003000','000812','000353','003031','003035','000347','000348','003162','003002','003814','000382','000376','000391','003164','003004','000801','000371','000389','000813','003003','000380','000395','000393','003831','000802','000351','003163','000318','000809','000811','000328','000326','003032','000329','000822','003850','000320','000821','000805','000354','000314','000377','000397','000372','000394','003005','003800','000398','000803','000324','003852','000381','000373','000311','000390','000322','003033','000399','000383','000321','003034','000816','003167','000317','000388\""
      ]
     },
     "execution_count": 29,
     "metadata": {},
     "output_type": "execute_result"
    }
   ],
   "source": [
    "\"','\".join(set(cameralist))"
   ]
  },
  {
   "cell_type": "code",
   "execution_count": 30,
   "metadata": {},
   "outputs": [
    {
     "data": {
      "text/plain": [
       "{'003166': 35,\n",
       " '000388': 29,\n",
       " '000324': 33,\n",
       " '003033': 25,\n",
       " '003003': 55,\n",
       " '003165': 30,\n",
       " '000813': 44,\n",
       " '000373': 26,\n",
       " '003035': 38,\n",
       " '003005': 52,\n",
       " '000812': 76,\n",
       " '000323': 29,\n",
       " '000822': 59,\n",
       " '003004': 44,\n",
       " '003163': 16,\n",
       " '000399': 33,\n",
       " '000384': 43,\n",
       " '000322': 25,\n",
       " '000347': 29,\n",
       " '000321': 27,\n",
       " '000383': 27,\n",
       " '000351': 52,\n",
       " '003167': 34,\n",
       " '003001': 29,\n",
       " '003002': 27,\n",
       " '000320': 30,\n",
       " '000327': 32,\n",
       " '000353': 47,\n",
       " '000317': 37,\n",
       " '000311': 20,\n",
       " '000314': 29,\n",
       " '000354': 29,\n",
       " '000325': 18,\n",
       " '000326': 22,\n",
       " '000376': 13,\n",
       " '003000': 33,\n",
       " '000348': 31,\n",
       " '000371': 42,\n",
       " '003162': 23,\n",
       " '000888': 18,\n",
       " '000821': 22,\n",
       " '003161': 28,\n",
       " '000806': 26,\n",
       " '000329': 64,\n",
       " '000352': 51,\n",
       " '000372': 21,\n",
       " '000801': 11,\n",
       " '000328': 47,\n",
       " '000807': 15,\n",
       " '000397': 15,\n",
       " '000377': 13,\n",
       " '003034': 11,\n",
       " '000318': 27,\n",
       " '000390': 26,\n",
       " '000398': 1,\n",
       " '000805': 12,\n",
       " '000809': 17,\n",
       " '003831': 25,\n",
       " '000378': 58,\n",
       " '003031': 13,\n",
       " '000391': 32,\n",
       " '000393': 26,\n",
       " '003036': 9,\n",
       " '000802': 23,\n",
       " '003030': 5,\n",
       " '000816': 39,\n",
       " '003164': 8,\n",
       " '000396': 12,\n",
       " '000810': 7,\n",
       " '003032': 12,\n",
       " '000389': 18,\n",
       " '000803': 15,\n",
       " '000379': 24,\n",
       " '003852': 2,\n",
       " '000395': 27,\n",
       " '000394': 40,\n",
       " '000380': 14,\n",
       " '000382': 16,\n",
       " '000381': 14,\n",
       " '003850': 2,\n",
       " '003037': 12,\n",
       " '003814': 134,\n",
       " '000811': 3,\n",
       " '000808': 10,\n",
       " '003800': 19,\n",
       " '000804': 3}"
      ]
     },
     "execution_count": 30,
     "metadata": {},
     "output_type": "execute_result"
    }
   ],
   "source": [
    "meteors_per_camera"
   ]
  }
 ],
 "metadata": {
  "kernelspec": {
   "display_name": "Python 3",
   "language": "python",
   "name": "python3"
  },
  "language_info": {
   "codemirror_mode": {
    "name": "ipython",
    "version": 3
   },
   "file_extension": ".py",
   "mimetype": "text/x-python",
   "name": "python",
   "nbconvert_exporter": "python",
   "pygments_lexer": "ipython3",
   "version": "3.6.10"
  }
 },
 "nbformat": 4,
 "nbformat_minor": 4
}
