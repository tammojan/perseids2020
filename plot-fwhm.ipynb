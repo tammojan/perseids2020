{
 "cells": [
  {
   "cell_type": "code",
   "execution_count": 1,
   "metadata": {},
   "outputs": [],
   "source": [
    "from astropy.coordinates import EarthLocation, AltAz, ITRS\n",
    "from scipy import interpolate\n",
    "import astropy.units as u\n",
    "import numpy as np\n",
    "from astropy.time import Time"
   ]
  },
  {
   "cell_type": "code",
   "execution_count": 2,
   "metadata": {},
   "outputs": [],
   "source": [
    "from lofarantpos.db import LofarAntennaDatabase"
   ]
  },
  {
   "cell_type": "code",
   "execution_count": 3,
   "metadata": {},
   "outputs": [],
   "source": [
    "from pyproj import Transformer"
   ]
  },
  {
   "cell_type": "code",
   "execution_count": 4,
   "metadata": {},
   "outputs": [],
   "source": [
    "db = LofarAntennaDatabase()"
   ]
  },
  {
   "cell_type": "code",
   "execution_count": 5,
   "metadata": {},
   "outputs": [],
   "source": [
    "loc_rs305 = EarthLocation(*(db.phase_centres[\"RS305LBA\"]*u.m))\n",
    "loc_de605 = EarthLocation(*(db.phase_centres[\"DE605LBA\"]*u.m))"
   ]
  },
  {
   "cell_type": "code",
   "execution_count": 6,
   "metadata": {},
   "outputs": [],
   "source": [
    "dummytime = Time.now()"
   ]
  },
  {
   "cell_type": "code",
   "execution_count": 7,
   "metadata": {},
   "outputs": [],
   "source": [
    "wgs84_to_rds = Transformer.from_crs(4326, 28992)\n",
    "rds_to_wgs84 = Transformer.from_crs(28992, 4326)"
   ]
  },
  {
   "cell_type": "code",
   "execution_count": 8,
   "metadata": {},
   "outputs": [],
   "source": [
    "def distance_from_height(obs_altaz, height=100*u.km):\n",
    "    \"\"\"From an AltAz pointing, find the distance to where it crosses a plane 100 km above Earth\"\"\"\n",
    "    try_distances = np.linspace(50, 1000) * u.km\n",
    "    try_altaz = AltAz(location=obs_altaz.location, obstime=dummytime, az=obs_altaz.az, alt=obs_altaz.alt, distance=try_distances)\n",
    "    try_heights = EarthLocation(*(try_altaz.transform_to(ITRS(obstime=dummytime)).cartesian.xyz)).height\n",
    "    height_to_distance = interpolate.interp1d(try_heights.to(u.km), try_distances.to(u.km))\n",
    "    return height_to_distance(height) * u.km"
   ]
  },
  {
   "cell_type": "code",
   "execution_count": 9,
   "metadata": {},
   "outputs": [],
   "source": [
    "def earthloc_at_height(obs_altaz, height=100*u.km):\n",
    "    \"\"\"From an AltAz pointing, find the EarthLocation at which point the line of sight is exactly at a given height (100km)\"\"\"\n",
    "    distance = distance_from_height(obs_altaz, height)\n",
    "    intersection_altaz = AltAz(location=obs_altaz.location, obstime=dummytime, az=obs_altaz.az, alt=obs_altaz.alt, distance=distance)\n",
    "    return EarthLocation(*(intersection_altaz.transform_to(ITRS(obstime=dummytime)).cartesian.xyz))"
   ]
  },
  {
   "cell_type": "code",
   "execution_count": 10,
   "metadata": {},
   "outputs": [],
   "source": [
    "def draw_fov(\n",
    "    obsloc: EarthLocation, alt0, az0, fwhm=13 * u.deg, height=100 * u.km, num_segments=31\n",
    "):\n",
    "    \"\"\"\n",
    "    Make well-known-text (WKT) representation of beam at a certain height\n",
    "    Coordinate system is rijksdriehoeksstelsel valid in NL\n",
    "    \"\"\"\n",
    "    nodes = []\n",
    "    for angle_offset in np.linspace(0, 360, num_segments) * u.deg:\n",
    "        alt = alt0 + 0.5 * fwhm * np.cos(angle_offset)\n",
    "        az = az0 + 0.5 * fwhm * np.sin(angle_offset)\n",
    "        obs_altaz = AltAz(location=obsloc, obstime=dummytime, alt=alt, az=az)\n",
    "        loc = earthloc_at_height(obs_altaz, height=height)\n",
    "        node = wgs84_to_rds.transform(loc.lat.degree, loc.lon.degree, loc.height.value)[:2]\n",
    "        nodes += [node]\n",
    "    nodes += [nodes[0]]\n",
    "    return \"POLYGON((\" +  \", \".join([f\"{node[0]:.2f} {node[1]:.2f}\" for node in nodes]) + \"))\""
   ]
  },
  {
   "cell_type": "code",
   "execution_count": 37,
   "metadata": {},
   "outputs": [],
   "source": [
    "alt_rs305 = 30 * u.deg"
   ]
  },
  {
   "cell_type": "code",
   "execution_count": 38,
   "metadata": {},
   "outputs": [
    {
     "name": "stdout",
     "output_type": "stream",
     "text": [
      "POLYGON((199329.67 403690.76, 197887.38 403856.71, 196288.87 403428.15, 194584.46 402411.98, 192831.30 400832.48, 191093.28 398732.18, 189437.86 396167.17, 187938.13 393218.78, 186668.90 389992.09, 185702.41 386616.02, 185102.92 383240.90, 184920.92 380034.63, 185186.71 377173.71, 185899.16 374814.90, 187030.22 373100.72, 188522.13 372137.51, 190291.37 371983.92, 192235.97 372644.82, 194245.10 374071.62, 196209.22 376168.91, 198031.30 378813.54, 199627.06 381847.50, 200933.46 385107.19, 201909.05 388434.46, 202531.91 391683.14, 202796.69 394724.39, 202711.27 397449.13, 202294.59 399771.69, 201571.04 401619.31, 200570.89 402937.76, 199329.67 403690.76, 199329.67 403690.76))\n",
      "POLYGON((175238.60 414367.42, 173847.04 414781.22, 172198.41 414636.66, 170343.46 413931.79, 168342.69 412680.62, 166266.41 410913.92, 164190.79 408675.21, 162201.95 406031.93, 160391.78 403074.56, 158853.83 399917.52, 157677.47 396697.71, 156941.57 393571.73, 156706.63 390708.10, 156998.73 388261.44, 157815.01 386376.97, 159117.04 385169.42, 160832.74 384711.06, 162862.55 385024.38, 165088.88 386080.76, 167387.29 387805.27, 169640.83 390093.45, 171739.10 392804.33, 173591.58 395787.74, 175130.02 398895.11, 176307.45 401986.32, 177096.22 404935.42, 177485.17 407633.59, 177478.06 409993.20, 177086.28 411938.35, 176330.24 413410.39, 175238.60 414367.42, 175238.60 414367.42))\n",
      "POLYGON((153367.07 429063.99, 152068.47 429713.08, 150419.77 429856.90, 148470.60 429484.74, 146282.97 428599.88, 143931.47 427220.42, 141498.67 425375.99, 139081.08 423118.07, 136784.92 420519.80, 134722.19 417677.63, 133004.65 414710.88, 131737.20 411760.07, 131008.64 408980.68, 130871.53 406520.43, 131348.25 404522.86, 132420.87 403107.63, 134030.96 402358.41, 136084.36 402314.65, 138460.31 402968.55, 141023.23 404267.92, 143639.83 406130.19, 146176.91 408435.70, 148519.24 411052.25, 150573.83 413845.40, 152270.07 416685.31, 153558.90 419452.71, 154410.40 422042.40, 154813.07 424367.42, 154764.96 426351.05, 154275.97 427931.99, 153367.07 429063.99, 153367.07 429063.99))\n"
     ]
    }
   ],
   "source": [
    "for az0 in np.array([200, 210, 220]) * u.deg:\n",
    "    print(draw_fov(loc_rs305, alt_rs305, az0, fwhm=5.16*u.deg, height=100*u.km))"
   ]
  },
  {
   "cell_type": "code",
   "execution_count": 34,
   "metadata": {},
   "outputs": [],
   "source": [
    "de605_pointings = []\n",
    "for rs305_az in np.array([200, 210, 220]) * u.deg:\n",
    "    rs305_altaz_far = AltAz(location=loc_rs305, alt=alt_rs305, az=rs305_az)\n",
    "    rs305_altaz_near = AltAz(\n",
    "        location=loc_rs305,\n",
    "        alt=alt_rs305,\n",
    "        az=rs305_az,\n",
    "        distance=distance_from_height(rs305_altaz_far, 100 * u.km),\n",
    "        obstime=dummytime,\n",
    "    )\n",
    "    de605_altaz_near = rs305_altaz_near.transform_to(\n",
    "        AltAz(location=loc_de605, obstime=dummytime)\n",
    "    )\n",
    "    de605_pointings.append(de605_altaz_near)"
   ]
  },
  {
   "cell_type": "code",
   "execution_count": 39,
   "metadata": {},
   "outputs": [
    {
     "data": {
      "text/plain": [
       "[<AltAz Coordinate (obstime=2020-12-07 21:31:46.840659, location=(4005681.742, 450968.282, 4926457.67) m, pressure=0.0 hPa, temperature=0.0 deg_C, relative_humidity=0.0, obswl=1.0 micron): (az, alt, distance) in (deg, deg, m)\n",
       "     (333.64971411, 53.07061514, 124377.461752)>,\n",
       " <AltAz Coordinate (obstime=2020-12-07 21:31:46.840659, location=(4005681.742, 450968.282, 4926457.67) m, pressure=0.0 hPa, temperature=0.0 deg_C, relative_humidity=0.0, obswl=1.0 micron): (az, alt, distance) in (deg, deg, m)\n",
       "     (322.90088284, 44.90473886, 140371.98250258)>,\n",
       " <AltAz Coordinate (obstime=2020-12-07 21:31:46.840659, location=(4005681.742, 450968.282, 4926457.67) m, pressure=0.0 hPa, temperature=0.0 deg_C, relative_humidity=0.0, obswl=1.0 micron): (az, alt, distance) in (deg, deg, m)\n",
       "     (318.76689597, 37.6535578, 161398.25362562)>]"
      ]
     },
     "execution_count": 39,
     "metadata": {},
     "output_type": "execute_result"
    }
   ],
   "source": [
    "de605_pointings"
   ]
  },
  {
   "cell_type": "code",
   "execution_count": 40,
   "metadata": {},
   "outputs": [
    {
     "name": "stdout",
     "output_type": "stream",
     "text": [
      "POLYGON((198070.44 381718.68, 198676.58 382219.44, 199111.52 383005.94, 199362.30 384053.61, 199419.55 385327.68, 199277.46 386783.14, 198934.43 388365.10, 198394.17 390009.69, 197667.39 391645.83, 196773.53 393197.84, 195742.14 394589.10, 194613.72 395746.27, 193438.66 396605.33, 192275.08 397116.88, 191185.47 397250.01, 190231.53 396995.96, 189468.80 396369.27, 188941.47 395406.56, 188678.42 394163.08, 188690.98 392707.58, 188972.91 391116.11, 189501.59 389466.93, 190241.07 387835.71, 191146.34 386291.15, 192167.26 384893.16, 193252.31 383691.90, 194351.81 382727.64, 195420.21 382031.09, 196417.55 381623.78, 197310.13 381518.37, 198070.44 381718.68, 198070.44 381718.68))\n",
      "POLYGON((174095.41 392670.17, 174779.01 393466.83, 175185.81 394569.29, 175301.90 395944.40, 175119.79 397548.46, 174638.80 399326.82, 173866.18 401213.84, 172818.76 403133.73, 171524.92 405002.42, 170026.38 406730.70, 168379.32 408228.87, 166654.00 409412.77, 164932.62 410210.45, 163305.39 410568.49, 161861.51 410461.38, 160684.49 409891.21, 159843.24 408889.86, 159385.57 407516.34, 159333.98 405851.07, 159685.58 403986.81, 160410.69 402024.08, 161459.70 400060.20, 162768.20 398183.94, 164263.00 396471.70, 165867.85 394985.83, 167508.15 393774.42, 169114.54 392872.37, 170625.18 392302.78, 171986.90 392078.40, 173155.50 392202.65, 174095.41 392670.17, 174095.41 392670.17))\n",
      "POLYGON((152609.67 407070.55, 153411.92 408153.16, 153832.03 409601.03, 153853.42 411372.54, 153467.90 413414.32, 152676.64 415660.23, 151492.08 418030.70, 149940.52 420433.04, 148065.02 422763.13, 145927.96 424908.92, 143613.84 426754.27, 141225.76 428190.23, 138880.06 429126.22, 136703.71 429494.34, 134822.33 429260.59, 133348.58 428430.50, 132370.83 427050.36, 131944.23 425203.27, 132085.92 423000.71, 132775.03 420571.13, 133957.14 418047.82, 135554.12 415555.86, 137468.24 413209.00, 139592.68 411103.30, 141822.40 409312.35, 144058.26 407889.71, 146210.78 406871.11, 148202.07 406277.12, 149966.47 406115.73, 151450.04 406384.27, 152609.67 407070.55, 152609.67 407070.55))\n"
     ]
    }
   ],
   "source": [
    "for de605_pointing in de605_pointings:\n",
    "    print(\n",
    "        draw_fov(\n",
    "            loc_de605,\n",
    "            de605_pointing.alt,\n",
    "            de605_pointing.az,\n",
    "            fwhm=6.46 * u.deg,\n",
    "            height=100 * u.km,\n",
    "        )\n",
    "    )"
   ]
  },
  {
   "cell_type": "code",
   "execution_count": 43,
   "metadata": {},
   "outputs": [
    {
     "name": "stdout",
     "output_type": "stream",
     "text": [
      "- alt 53.1˚, az 333.6˚\n",
      "- alt 44.9˚, az 322.9˚\n",
      "- alt 37.7˚, az 318.8˚\n"
     ]
    }
   ],
   "source": [
    "for de605_pointing in de605_pointings:\n",
    "    print(f\"- alt {de605_pointing.alt.deg:.1f}˚, az {de605_pointing.az.deg:.1f}˚\")"
   ]
  },
  {
   "cell_type": "code",
   "execution_count": null,
   "metadata": {},
   "outputs": [],
   "source": []
  }
 ],
 "metadata": {
  "kernelspec": {
   "display_name": "Python 3",
   "language": "python",
   "name": "python3"
  },
  "language_info": {
   "codemirror_mode": {
    "name": "ipython",
    "version": 3
   },
   "file_extension": ".py",
   "mimetype": "text/x-python",
   "name": "python",
   "nbconvert_exporter": "python",
   "pygments_lexer": "ipython3",
   "version": "3.6.10"
  }
 },
 "nbformat": 4,
 "nbformat_minor": 4
}
