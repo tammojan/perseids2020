{
 "cells": [
  {
   "cell_type": "code",
   "execution_count": 16,
   "metadata": {},
   "outputs": [],
   "source": [
    "from astropy.coordinates import EarthLocation, AltAz, ITRS, FK5\n",
    "from scipy import interpolate\n",
    "import astropy.units as u\n",
    "import numpy as np\n",
    "from astropy.time import Time"
   ]
  },
  {
   "cell_type": "code",
   "execution_count": 17,
   "metadata": {},
   "outputs": [],
   "source": [
    "from lofarantpos.db import LofarAntennaDatabase"
   ]
  },
  {
   "cell_type": "code",
   "execution_count": 18,
   "metadata": {},
   "outputs": [],
   "source": [
    "from pyproj import Transformer"
   ]
  },
  {
   "cell_type": "code",
   "execution_count": 19,
   "metadata": {},
   "outputs": [],
   "source": [
    "db = LofarAntennaDatabase()"
   ]
  },
  {
   "cell_type": "code",
   "execution_count": 20,
   "metadata": {},
   "outputs": [],
   "source": [
    "loc_rs305 = EarthLocation(*(db.phase_centres[\"RS305LBA\"]*u.m))\n",
    "loc_de605 = EarthLocation(*(db.phase_centres[\"DE605LBA\"]*u.m))"
   ]
  },
  {
   "cell_type": "code",
   "execution_count": 21,
   "metadata": {},
   "outputs": [],
   "source": [
    "dummytime = Time.now()"
   ]
  },
  {
   "cell_type": "code",
   "execution_count": 22,
   "metadata": {},
   "outputs": [],
   "source": [
    "wgs84_to_rds = Transformer.from_crs(4326, 28992)\n",
    "rds_to_wgs84 = Transformer.from_crs(28992, 4326)"
   ]
  },
  {
   "cell_type": "code",
   "execution_count": 23,
   "metadata": {},
   "outputs": [],
   "source": [
    "def distance_from_height(obs_altaz, height=100*u.km):\n",
    "    \"\"\"From an AltAz pointing, find the distance to where it crosses a plane 100 km above Earth\"\"\"\n",
    "    try_distances = np.linspace(50, 1000) * u.km\n",
    "    try_altaz = AltAz(location=obs_altaz.location, obstime=dummytime, az=obs_altaz.az, alt=obs_altaz.alt, distance=try_distances)\n",
    "    try_heights = EarthLocation(*(try_altaz.transform_to(ITRS(obstime=dummytime)).cartesian.xyz)).height\n",
    "    height_to_distance = interpolate.interp1d(try_heights.to(u.km), try_distances.to(u.km))\n",
    "    return height_to_distance(height) * u.km"
   ]
  },
  {
   "cell_type": "code",
   "execution_count": 24,
   "metadata": {},
   "outputs": [],
   "source": [
    "def earthloc_at_height(obs_altaz, height=100*u.km):\n",
    "    \"\"\"From an AltAz pointing, find the EarthLocation at which point the line of sight is exactly at a given height (100km)\"\"\"\n",
    "    distance = distance_from_height(obs_altaz, height)\n",
    "    intersection_altaz = AltAz(location=obs_altaz.location, obstime=dummytime, az=obs_altaz.az, alt=obs_altaz.alt, distance=distance)\n",
    "    return EarthLocation(*(intersection_altaz.transform_to(ITRS(obstime=dummytime)).cartesian.xyz))"
   ]
  },
  {
   "cell_type": "code",
   "execution_count": 43,
   "metadata": {},
   "outputs": [],
   "source": [
    "def draw_fov(\n",
    "    obsloc: EarthLocation, alt0, az0, fwhm=13 * u.deg, height=100 * u.km, num_segments=31,\n",
    "    as_radec=False, obstime=dummytime\n",
    "):\n",
    "    \"\"\"\n",
    "    Make well-known-text (WKT) representation of beam at a certain height\n",
    "    Coordinate system is rijksdriehoeksstelsel valid in NL\n",
    "    \"\"\"\n",
    "    global nodes\n",
    "    nodes = []\n",
    "    for angle_offset in np.linspace(0, 360, num_segments) * u.deg:\n",
    "        alt = alt0 + 0.5 * fwhm * np.cos(angle_offset)\n",
    "        az = az0 + 0.5 * fwhm * np.sin(angle_offset)\n",
    "        obs_altaz = AltAz(location=obsloc, obstime=dummytime, alt=alt, az=az)\n",
    "        loc = earthloc_at_height(obs_altaz, height=height)\n",
    "        if as_radec:\n",
    "            bla = obs_altaz.transform_to(FK5)\n",
    "            node = bla\n",
    "        else:\n",
    "            node = wgs84_to_rds.transform(loc.lat.degree, loc.lon.degree, loc.height.value)[:2]\n",
    "        nodes += [node]\n",
    "    nodes += [nodes[0]]\n",
    "    if as_radec:\n",
    "        return nodes\n",
    "    else:\n",
    "        return \"POLYGON((\" +  \", \".join([f\"{node[0]:.2f} {node[1]:.2f}\" for node in nodes]) + \"))\""
   ]
  },
  {
   "cell_type": "code",
   "execution_count": 44,
   "metadata": {},
   "outputs": [],
   "source": [
    "alt_rs305 = 30 * u.deg"
   ]
  },
  {
   "cell_type": "code",
   "execution_count": 50,
   "metadata": {},
   "outputs": [
    {
     "name": "stdout",
     "output_type": "stream",
     "text": [
      "[<FK5 Coordinate (equinox=J2000.000): (ra, dec) in deg\n",
      "    (282.05598567, 1.06069143)>, <FK5 Coordinate (equinox=J2000.000): (ra, dec) in deg\n",
      "    (280.96181597, 1.15581196)>, <FK5 Coordinate (equinox=J2000.000): (ra, dec) in deg\n",
      "    (279.84825872, 0.98453789)>, <FK5 Coordinate (equinox=J2000.000): (ra, dec) in deg\n",
      "    (278.75466441, 0.55387291)>, <FK5 Coordinate (equinox=J2000.000): (ra, dec) in deg\n",
      "    (277.72268566, -0.11975553)>, <FK5 Coordinate (equinox=J2000.000): (ra, dec) in deg\n",
      "    (276.79535431, -1.01091607)>, <FK5 Coordinate (equinox=J2000.000): (ra, dec) in deg\n",
      "    (276.01539597, -2.08568767)>, <FK5 Coordinate (equinox=J2000.000): (ra, dec) in deg\n",
      "    (275.42289482, -3.30231988)>, <FK5 Coordinate (equinox=J2000.000): (ra, dec) in deg\n",
      "    (275.05254389, -4.61214301)>, <FK5 Coordinate (equinox=J2000.000): (ra, dec) in deg\n",
      "    (274.93077521, -5.96085442)>, <FK5 Coordinate (equinox=J2000.000): (ra, dec) in deg\n",
      "    (275.07306997, -7.29028895)>, <FK5 Coordinate (equinox=J2000.000): (ra, dec) in deg\n",
      "    (275.4817292, -8.54072612)>, <FK5 Coordinate (equinox=J2000.000): (ra, dec) in deg\n",
      "    (276.14437036, -9.65370362)>, <FK5 Coordinate (equinox=J2000.000): (ra, dec) in deg\n",
      "    (277.03341033, -10.57520783)>, <FK5 Coordinate (equinox=J2000.000): (ra, dec) in deg\n",
      "    (278.10678004, -11.25900968)>, <FK5 Coordinate (equinox=J2000.000): (ra, dec) in deg\n",
      "    (279.31004076, -11.66982544)>, <FK5 Coordinate (equinox=J2000.000): (ra, dec) in deg\n",
      "    (280.57989944, -11.78593061)>, <FK5 Coordinate (equinox=J2000.000): (ra, dec) in deg\n",
      "    (281.84885593, -11.60086965)>, <FK5 Coordinate (equinox=J2000.000): (ra, dec) in deg\n",
      "    (283.05043269, -11.12400228)>, <FK5 Coordinate (equinox=J2000.000): (ra, dec) in deg\n",
      "    (284.12425267, -10.37979785)>, <FK5 Coordinate (equinox=J2000.000): (ra, dec) in deg\n",
      "    (285.02023436, -9.40598918)>, <FK5 Coordinate (equinox=J2000.000): (ra, dec) in deg\n",
      "    (285.70137163, -8.25086614)>, <FK5 Coordinate (equinox=J2000.000): (ra, dec) in deg\n",
      "    (286.14488176, -6.9700797)>, <FK5 Coordinate (equinox=J2000.000): (ra, dec) in deg\n",
      "    (286.34182344, -5.62332401)>, <FK5 Coordinate (equinox=J2000.000): (ra, dec) in deg\n",
      "    (286.2955222, -4.27118892)>, <FK5 Coordinate (equinox=J2000.000): (ra, dec) in deg\n",
      "    (286.01926404, -2.97236717)>, <FK5 Coordinate (equinox=J2000.000): (ra, dec) in deg\n",
      "    (285.53374287, -1.78129846)>, <FK5 Coordinate (equinox=J2000.000): (ra, dec) in deg\n",
      "    (284.86469897, -0.74626127)>, <FK5 Coordinate (equinox=J2000.000): (ra, dec) in deg\n",
      "    (284.04108321, 0.09211015)>, <FK5 Coordinate (equinox=J2000.000): (ra, dec) in deg\n",
      "    (283.09393511, 0.70191285)>, <FK5 Coordinate (equinox=J2000.000): (ra, dec) in deg\n",
      "    (282.05598567, 1.06069143)>, <FK5 Coordinate (equinox=J2000.000): (ra, dec) in deg\n",
      "    (282.05598567, 1.06069143)>]\n",
      "[<FK5 Coordinate (equinox=J2000.000): (ra, dec) in deg\n",
      "    (266.73226941, 5.92545925)>, <FK5 Coordinate (equinox=J2000.000): (ra, dec) in deg\n",
      "    (265.67052075, 6.22744591)>, <FK5 Coordinate (equinox=J2000.000): (ra, dec) in deg\n",
      "    (264.53809666, 6.26971625)>, <FK5 Coordinate (equinox=J2000.000): (ra, dec) in deg\n",
      "    (263.37657315, 6.05136766)>, <FK5 Coordinate (equinox=J2000.000): (ra, dec) in deg\n",
      "    (262.23172844, 5.58061619)>, <FK5 Coordinate (equinox=J2000.000): (ra, dec) in deg\n",
      "    (261.15220376, 4.87463062)>, <FK5 Coordinate (equinox=J2000.000): (ra, dec) in deg\n",
      "    (260.18735797, 3.95936094)>, <FK5 Coordinate (equinox=J2000.000): (ra, dec) in deg\n",
      "    (259.38451366, 2.86926374)>, <FK5 Coordinate (equinox=J2000.000): (ra, dec) in deg\n",
      "    (258.78591172, 1.64677119)>, <FK5 Coordinate (equinox=J2000.000): (ra, dec) in deg\n",
      "    (258.42572277, 0.34134476)>, <FK5 Coordinate (equinox=J2000.000): (ra, dec) in deg\n",
      "    (258.32741712, -0.99200276)>, <FK5 Coordinate (equinox=J2000.000): (ra, dec) in deg\n",
      "    (258.50170998, -2.29475885)>, <FK5 Coordinate (equinox=J2000.000): (ra, dec) in deg\n",
      "    (258.94522164, -3.50749587)>, <FK5 Coordinate (equinox=J2000.000): (ra, dec) in deg\n",
      "    (259.63995437, -4.57287043)>, <FK5 Coordinate (equinox=J2000.000): (ra, dec) in deg\n",
      "    (260.55368942, -5.43885285)>, <FK5 Coordinate (equinox=J2000.000): (ra, dec) in deg\n",
      "    (261.64141312, -6.06194333)>, <FK5 Coordinate (equinox=J2000.000): (ra, dec) in deg\n",
      "    (262.84783922, -6.4100846)>, <FK5 Coordinate (equinox=J2000.000): (ra, dec) in deg\n",
      "    (264.11096625, -6.46495859)>, <FK5 Coordinate (equinox=J2000.000): (ra, dec) in deg\n",
      "    (265.36640299, -6.22337995)>, <FK5 Coordinate (equinox=J2000.000): (ra, dec) in deg\n",
      "    (266.55197785, -5.69758736)>, <FK5 Coordinate (equinox=J2000.000): (ra, dec) in deg\n",
      "    (267.61201619, -4.91437777)>, <FK5 Coordinate (equinox=J2000.000): (ra, dec) in deg\n",
      "    (268.50069526, -3.91319613)>, <FK5 Coordinate (equinox=J2000.000): (ra, dec) in deg\n",
      "    (269.18407517, -2.74343307)>, <FK5 Coordinate (equinox=J2000.000): (ra, dec) in deg\n",
      "    (269.64068914, -1.46125991)>, <FK5 Coordinate (equinox=J2000.000): (ra, dec) in deg\n",
      "    (269.86086323, -0.12633078)>, <FK5 Coordinate (equinox=J2000.000): (ra, dec) in deg\n",
      "    (269.84514759, 1.20137414)>, <FK5 Coordinate (equinox=J2000.000): (ra, dec) in deg\n",
      "    (269.60234279, 2.46437113)>, <FK5 Coordinate (equinox=J2000.000): (ra, dec) in deg\n",
      "    (269.14759605, 3.61004454)>, <FK5 Coordinate (equinox=J2000.000): (ra, dec) in deg\n",
      "    (268.50094141, 4.59250932)>, <FK5 Coordinate (equinox=J2000.000): (ra, dec) in deg\n",
      "    (267.68648968, 5.37394986)>, <FK5 Coordinate (equinox=J2000.000): (ra, dec) in deg\n",
      "    (266.73226941, 5.92545925)>, <FK5 Coordinate (equinox=J2000.000): (ra, dec) in deg\n",
      "    (266.73226941, 5.92545925)>]\n",
      "[<FK5 Coordinate (equinox=J2000.000): (ra, dec) in deg\n",
      "    (252.34574715, 13.45637661)>, <FK5 Coordinate (equinox=J2000.000): (ra, dec) in deg\n",
      "    (251.32504258, 13.92805017)>, <FK5 Coordinate (equinox=J2000.000): (ra, dec) in deg\n",
      "    (250.18708076, 14.15233799)>, <FK5 Coordinate (equinox=J2000.000): (ra, dec) in deg\n",
      "    (248.97550501, 14.12085117)>, <FK5 Coordinate (equinox=J2000.000): (ra, dec) in deg\n",
      "    (247.74035902, 13.83395241)>, <FK5 Coordinate (equinox=J2000.000): (ra, dec) in deg\n",
      "    (246.53623567, 13.30096479)>, <FK5 Coordinate (equinox=J2000.000): (ra, dec) in deg\n",
      "    (245.41948273, 12.54041764)>, <FK5 Coordinate (equinox=J2000.000): (ra, dec) in deg\n",
      "    (244.44477123, 11.58015896)>, <FK5 Coordinate (equinox=J2000.000): (ra, dec) in deg\n",
      "    (243.66147472, 10.4571191)>, <FK5 Coordinate (equinox=J2000.000): (ra, dec) in deg\n",
      "    (243.11032434, 9.21653985)>, <FK5 Coordinate (equinox=J2000.000): (ra, dec) in deg\n",
      "    (242.82070534, 7.9105699)>, <FK5 Coordinate (equinox=J2000.000): (ra, dec) in deg\n",
      "    (242.80879741, 6.59623431)>, <FK5 Coordinate (equinox=J2000.000): (ra, dec) in deg\n",
      "    (243.07660272, 5.33287736)>, <FK5 Coordinate (equinox=J2000.000): (ra, dec) in deg\n",
      "    (243.61180845, 4.17923536)>, <FK5 Coordinate (equinox=J2000.000): (ra, dec) in deg\n",
      "    (244.38841159, 3.19032337)>, <FK5 Coordinate (equinox=J2000.000): (ra, dec) in deg\n",
      "    (245.36806983, 2.41433177)>, <FK5 Coordinate (equinox=J2000.000): (ra, dec) in deg\n",
      "    (246.50218041, 1.88974179)>, <FK5 Coordinate (equinox=J2000.000): (ra, dec) in deg\n",
      "    (247.73467516, 1.6428849)>, <FK5 Coordinate (equinox=J2000.000): (ra, dec) in deg\n",
      "    (249.00542935, 1.68617717)>, <FK5 Coordinate (equinox=J2000.000): (ra, dec) in deg\n",
      "    (250.25403179, 2.01723409)>, <FK5 Coordinate (equinox=J2000.000): (ra, dec) in deg\n",
      "    (251.42351886, 2.61899833)>, <FK5 Coordinate (equinox=J2000.000): (ra, dec) in deg\n",
      "    (252.46360875, 3.46089702)>, <FK5 Coordinate (equinox=J2000.000): (ra, dec) in deg\n",
      "    (253.33303275, 4.50091237)>, <FK5 Coordinate (equinox=J2000.000): (ra, dec) in deg\n",
      "    (254.00074056, 5.68833639)>, <FK5 Coordinate (equinox=J2000.000): (ra, dec) in deg\n",
      "    (254.44599856, 6.96691493)>, <FK5 Coordinate (equinox=J2000.000): (ra, dec) in deg\n",
      "    (254.65762911, 8.2780767)>, <FK5 Coordinate (equinox=J2000.000): (ra, dec) in deg\n",
      "    (254.63279035, 9.56397677)>, <FK5 Coordinate (equinox=J2000.000): (ra, dec) in deg\n",
      "    (254.3757388, 10.77014446)>, <FK5 Coordinate (equinox=J2000.000): (ra, dec) in deg\n",
      "    (253.89694656, 11.84759623)>, <FK5 Coordinate (equinox=J2000.000): (ra, dec) in deg\n",
      "    (253.21278217, 12.75435203)>, <FK5 Coordinate (equinox=J2000.000): (ra, dec) in deg\n",
      "    (252.34574715, 13.45637661)>, <FK5 Coordinate (equinox=J2000.000): (ra, dec) in deg\n",
      "    (252.34574715, 13.45637661)>]\n"
     ]
    }
   ],
   "source": [
    "rs305_pointings = []\n",
    "for az0 in np.array([200, 220, 240]) * u.deg:\n",
    "    print(draw_fov(loc_rs305, alt_rs305, az0, fwhm=13.02*u.deg, height=100*u.km,\n",
    "                   obstime=Time(\"2020-12-13T17:00\"), as_radec=True))\n",
    "    rs305_pointings.append(AltAz(location=loc_rs305, alt=alt_rs305, az=az0))"
   ]
  },
  {
   "cell_type": "code",
   "execution_count": 104,
   "metadata": {},
   "outputs": [],
   "source": [
    "de605_pointings = []\n",
    "for rs305_altaz_far in rs305_pointings:\n",
    "    rs305_altaz_near = AltAz(\n",
    "        location=rs305_altaz_far.location,\n",
    "        alt=rs305_altaz_far.alt,\n",
    "        az=rs305_altaz_far.az,\n",
    "        distance=distance_from_height(rs305_altaz_far, 100 * u.km),\n",
    "        obstime=dummytime,\n",
    "    )\n",
    "    de605_altaz_near = rs305_altaz_near.transform_to(\n",
    "        AltAz(location=loc_de605, obstime=dummytime)\n",
    "    )\n",
    "    de605_pointings.append(de605_altaz_near)"
   ]
  },
  {
   "cell_type": "code",
   "execution_count": 105,
   "metadata": {},
   "outputs": [
    {
     "name": "stdout",
     "output_type": "stream",
     "text": [
      "POLYGON((198070.44 381718.68, 198676.58 382219.44, 199111.52 383005.94, 199362.30 384053.61, 199419.55 385327.68, 199277.46 386783.14, 198934.43 388365.10, 198394.17 390009.69, 197667.39 391645.83, 196773.53 393197.84, 195742.14 394589.10, 194613.72 395746.27, 193438.66 396605.33, 192275.08 397116.88, 191185.47 397250.01, 190231.53 396995.96, 189468.80 396369.27, 188941.47 395406.56, 188678.42 394163.08, 188690.98 392707.58, 188972.91 391116.11, 189501.59 389466.93, 190241.07 387835.71, 191146.34 386291.15, 192167.26 384893.16, 193252.31 383691.90, 194351.81 382727.64, 195420.21 382031.09, 196417.55 381623.78, 197310.13 381518.37, 198070.44 381718.68, 198070.44 381718.68))\n",
      "POLYGON((152609.67 407070.55, 153411.92 408153.16, 153832.03 409601.03, 153853.42 411372.54, 153467.90 413414.32, 152676.64 415660.23, 151492.08 418030.70, 149940.52 420433.04, 148065.02 422763.13, 145927.96 424908.92, 143613.84 426754.27, 141225.76 428190.23, 138880.06 429126.22, 136703.71 429494.34, 134822.33 429260.59, 133348.58 428430.50, 132370.83 427050.36, 131944.23 425203.27, 132085.92 423000.71, 132775.03 420571.13, 133957.14 418047.82, 135554.12 415555.86, 137468.24 413209.00, 139592.68 411103.30, 141822.40 409312.35, 144058.26 407889.71, 146210.78 406871.11, 148202.07 406277.12, 149966.47 406115.73, 151450.04 406384.27, 152609.67 407070.55, 152609.67 407070.55))\n",
      "POLYGON((120131.61 444332.66, 121267.87 445915.72, 121803.56 448091.26, 121713.10 450804.93, 120981.12 453986.64, 119604.88 457547.22, 117598.36 461375.23, 115005.41 465325.12, 111887.69 469239.81, 108341.96 472939.56, 104505.81 476226.79, 100558.22 478897.68, 96709.53 480764.43, 93175.05 481691.30, 90175.47 481589.99, 87905.22 480444.93, 86509.73 478319.60, 86068.60 475351.24, 86588.45 471734.78, 88006.59 467699.48, 90212.59 463474.65, 93043.71 459290.60, 96317.73 455348.25, 99853.90 451806.74, 103484.59 448782.61, 107060.72 446354.93, 110442.60 444583.76, 113521.08 443495.66, 116207.26 443097.98, 118429.74 443383.39, 120131.61 444332.66, 120131.61 444332.66))\n"
     ]
    }
   ],
   "source": [
    "for de605_pointing in de605_pointings:\n",
    "    print(\n",
    "        draw_fov(\n",
    "            loc_de605,\n",
    "            de605_pointing.alt,\n",
    "            de605_pointing.az,\n",
    "            fwhm=6.46 * u.deg,\n",
    "            height=100 * u.km,\n",
    "        )\n",
    "    )"
   ]
  },
  {
   "cell_type": "code",
   "execution_count": 106,
   "metadata": {},
   "outputs": [
    {
     "name": "stdout",
     "output_type": "stream",
     "text": [
      "- alt 53.1˚, az 333.6˚\n",
      "- alt 37.7˚, az 318.8˚\n",
      "- alt 27.5˚, az 319.1˚\n"
     ]
    }
   ],
   "source": [
    "for de605_pointing in de605_pointings:\n",
    "    print(f\"- alt {de605_pointing.alt.deg:.1f}˚, az {de605_pointing.az.deg:.1f}˚\")"
   ]
  },
  {
   "cell_type": "code",
   "execution_count": 107,
   "metadata": {},
   "outputs": [
    {
     "name": "stdout",
     "output_type": "stream",
     "text": [
      "- alt 30.0˚, az 200.0˚\n",
      "- alt 30.0˚, az 220.0˚\n",
      "- alt 30.0˚, az 240.0˚\n"
     ]
    }
   ],
   "source": [
    "for rs305_pointing in rs305_pointings:\n",
    "    print(f\"- alt {rs305_pointing.alt.deg:.1f}˚, az {rs305_pointing.az.deg:.1f}˚\")"
   ]
  },
  {
   "cell_type": "code",
   "execution_count": null,
   "metadata": {},
   "outputs": [],
   "source": []
  }
 ],
 "metadata": {
  "kernelspec": {
   "display_name": "Python 3",
   "language": "python",
   "name": "python3"
  },
  "language_info": {
   "codemirror_mode": {
    "name": "ipython",
    "version": 3
   },
   "file_extension": ".py",
   "mimetype": "text/x-python",
   "name": "python",
   "nbconvert_exporter": "python",
   "pygments_lexer": "ipython3",
   "version": "3.6.10"
  }
 },
 "nbformat": 4,
 "nbformat_minor": 4
}
