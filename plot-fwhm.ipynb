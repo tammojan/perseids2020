{
 "cells": [
  {
   "cell_type": "code",
   "execution_count": 92,
   "metadata": {},
   "outputs": [],
   "source": [
    "from astropy.coordinates import EarthLocation, AltAz, ITRS\n",
    "from scipy import interpolate\n",
    "import astropy.units as u\n",
    "import numpy as np\n",
    "from astropy.time import Time"
   ]
  },
  {
   "cell_type": "code",
   "execution_count": 93,
   "metadata": {},
   "outputs": [],
   "source": [
    "from lofarantpos.db import LofarAntennaDatabase"
   ]
  },
  {
   "cell_type": "code",
   "execution_count": 94,
   "metadata": {},
   "outputs": [],
   "source": [
    "from pyproj import Transformer"
   ]
  },
  {
   "cell_type": "code",
   "execution_count": 95,
   "metadata": {},
   "outputs": [],
   "source": [
    "db = LofarAntennaDatabase()"
   ]
  },
  {
   "cell_type": "code",
   "execution_count": 96,
   "metadata": {},
   "outputs": [],
   "source": [
    "loc_rs305 = EarthLocation(*(db.phase_centres[\"RS305LBA\"]*u.m))\n",
    "loc_de605 = EarthLocation(*(db.phase_centres[\"DE605LBA\"]*u.m))"
   ]
  },
  {
   "cell_type": "code",
   "execution_count": 97,
   "metadata": {},
   "outputs": [],
   "source": [
    "dummytime = Time.now()"
   ]
  },
  {
   "cell_type": "code",
   "execution_count": 98,
   "metadata": {},
   "outputs": [],
   "source": [
    "wgs84_to_rds = Transformer.from_crs(4326, 28992)\n",
    "rds_to_wgs84 = Transformer.from_crs(28992, 4326)"
   ]
  },
  {
   "cell_type": "code",
   "execution_count": 99,
   "metadata": {},
   "outputs": [],
   "source": [
    "def distance_from_height(obs_altaz, height=100*u.km):\n",
    "    \"\"\"From an AltAz pointing, find the distance to where it crosses a plane 100 km above Earth\"\"\"\n",
    "    try_distances = np.linspace(50, 1000) * u.km\n",
    "    try_altaz = AltAz(location=obs_altaz.location, obstime=dummytime, az=obs_altaz.az, alt=obs_altaz.alt, distance=try_distances)\n",
    "    try_heights = EarthLocation(*(try_altaz.transform_to(ITRS(obstime=dummytime)).cartesian.xyz)).height\n",
    "    height_to_distance = interpolate.interp1d(try_heights.to(u.km), try_distances.to(u.km))\n",
    "    return height_to_distance(height) * u.km"
   ]
  },
  {
   "cell_type": "code",
   "execution_count": 100,
   "metadata": {},
   "outputs": [],
   "source": [
    "def earthloc_at_height(obs_altaz, height=100*u.km):\n",
    "    \"\"\"From an AltAz pointing, find the EarthLocation at which point the line of sight is exactly at a given height (100km)\"\"\"\n",
    "    distance = distance_from_height(obs_altaz, height)\n",
    "    intersection_altaz = AltAz(location=obs_altaz.location, obstime=dummytime, az=obs_altaz.az, alt=obs_altaz.alt, distance=distance)\n",
    "    return EarthLocation(*(intersection_altaz.transform_to(ITRS(obstime=dummytime)).cartesian.xyz))"
   ]
  },
  {
   "cell_type": "code",
   "execution_count": 101,
   "metadata": {},
   "outputs": [],
   "source": [
    "def draw_fov(\n",
    "    obsloc: EarthLocation, alt0, az0, fwhm=13 * u.deg, height=100 * u.km, num_segments=31\n",
    "):\n",
    "    \"\"\"\n",
    "    Make well-known-text (WKT) representation of beam at a certain height\n",
    "    Coordinate system is rijksdriehoeksstelsel valid in NL\n",
    "    \"\"\"\n",
    "    nodes = []\n",
    "    for angle_offset in np.linspace(0, 360, num_segments) * u.deg:\n",
    "        alt = alt0 + 0.5 * fwhm * np.cos(angle_offset)\n",
    "        az = az0 + 0.5 * fwhm * np.sin(angle_offset)\n",
    "        obs_altaz = AltAz(location=obsloc, obstime=dummytime, alt=alt, az=az)\n",
    "        loc = earthloc_at_height(obs_altaz, height=height)\n",
    "        node = wgs84_to_rds.transform(loc.lat.degree, loc.lon.degree, loc.height.value)[:2]\n",
    "        nodes += [node]\n",
    "    nodes += [nodes[0]]\n",
    "    return \"POLYGON((\" +  \", \".join([f\"{node[0]:.2f} {node[1]:.2f}\" for node in nodes]) + \"))\""
   ]
  },
  {
   "cell_type": "code",
   "execution_count": 102,
   "metadata": {},
   "outputs": [],
   "source": [
    "alt_rs305 = 30 * u.deg"
   ]
  },
  {
   "cell_type": "code",
   "execution_count": 103,
   "metadata": {},
   "outputs": [
    {
     "name": "stdout",
     "output_type": "stream",
     "text": [
      "POLYGON((205831.96 422675.86, 202683.62 423089.73, 199172.50 422302.96, 195349.58 420298.37, 191282.37 417060.34, 187063.36 412581.52, 182817.76 406875.34, 178718.61 400013.82, 174967.28 392106.47, 171811.05 383375.64, 169525.56 374176.38, 168366.21 364965.06, 168563.76 356368.47, 170229.23 349031.59, 173341.75 343600.87, 177716.71 340592.98, 183017.34 340287.30, 188806.27 342669.60, 194620.82 347444.89, 200048.03 354115.29, 204780.11 362103.20, 208614.99 370771.97, 211474.62 379604.50, 213359.07 388151.28, 214327.42 396085.04, 214471.63 403195.79, 213884.29 409320.57, 212656.13 414371.97, 210864.75 418299.12, 208573.09 421072.97, 205831.96 422675.86, 205831.96 422675.86))\n",
      "POLYGON((165969.77 444681.37, 163152.76 446146.80, 159584.25 446608.00, 155306.26 446031.41, 150376.88 444379.23, 144880.51 441612.93, 138939.44 437702.29, 132740.89 432655.83, 126511.54 426507.59, 120559.84 419381.97, 115266.24 411518.38, 111026.81 403258.40, 108272.77 395112.19, 107329.01 387647.94, 108396.94 381480.32, 111479.76 377158.00, 116356.48 375058.66, 122611.21 375318.38, 129708.25 377818.10, 137089.31 382231.07, 144267.63 388119.73, 150835.68 394954.88, 156543.26 402277.28, 161236.76 409664.52, 164859.77 416788.88, 167426.93 423421.63, 168969.48 429377.97, 169542.81 434544.76, 169202.41 438847.66, 167997.50 442237.86, 165969.77 444681.37, 165969.77 444681.37))\n",
      "POLYGON((136035.73 478990.79, 133889.64 481331.16, 130693.90 482984.79, 126476.49 483905.75, 121279.10 484038.66, 115167.84 483318.45, 108247.30 481674.87, 100696.32 479051.89, 92739.57 475403.98, 84709.48 470742.58, 77045.41 465162.55, 70236.47 458849.50, 64862.39 452135.45, 61422.78 445443.30, 60317.18 439281.91, 61736.23 434165.84, 65601.38 430525.57, 71568.30 428631.22, 79092.80 428553.99, 87538.44 430177.63, 96298.15 433257.34, 104807.99 437435.11, 112675.78 442364.90, 119612.76 447702.29, 125453.84 453158.60, 130134.57 458513.90, 133621.13 463583.87, 135926.86 468243.27, 137078.50 472403.26, 137105.61 476001.16, 136035.73 478990.79, 136035.73 478990.79))\n"
     ]
    }
   ],
   "source": [
    "rs305_pointings = []\n",
    "for az0 in np.array([200, 220, 240]) * u.deg:\n",
    "    print(draw_fov(loc_rs305, alt_rs305, az0, fwhm=13.02*u.deg, height=100*u.km))\n",
    "    rs305_pointings.append(AltAz(location=loc_rs305, alt=alt_rs305, az=az0))"
   ]
  },
  {
   "cell_type": "code",
   "execution_count": 104,
   "metadata": {},
   "outputs": [],
   "source": [
    "de605_pointings = []\n",
    "for rs305_altaz_far in rs305_pointings:\n",
    "    rs305_altaz_near = AltAz(\n",
    "        location=rs305_altaz_far.location,\n",
    "        alt=rs305_altaz_far.alt,\n",
    "        az=rs305_altaz_far.az,\n",
    "        distance=distance_from_height(rs305_altaz_far, 100 * u.km),\n",
    "        obstime=dummytime,\n",
    "    )\n",
    "    de605_altaz_near = rs305_altaz_near.transform_to(\n",
    "        AltAz(location=loc_de605, obstime=dummytime)\n",
    "    )\n",
    "    de605_pointings.append(de605_altaz_near)"
   ]
  },
  {
   "cell_type": "code",
   "execution_count": 105,
   "metadata": {},
   "outputs": [
    {
     "name": "stdout",
     "output_type": "stream",
     "text": [
      "POLYGON((198070.44 381718.68, 198676.58 382219.44, 199111.52 383005.94, 199362.30 384053.61, 199419.55 385327.68, 199277.46 386783.14, 198934.43 388365.10, 198394.17 390009.69, 197667.39 391645.83, 196773.53 393197.84, 195742.14 394589.10, 194613.72 395746.27, 193438.66 396605.33, 192275.08 397116.88, 191185.47 397250.01, 190231.53 396995.96, 189468.80 396369.27, 188941.47 395406.56, 188678.42 394163.08, 188690.98 392707.58, 188972.91 391116.11, 189501.59 389466.93, 190241.07 387835.71, 191146.34 386291.15, 192167.26 384893.16, 193252.31 383691.90, 194351.81 382727.64, 195420.21 382031.09, 196417.55 381623.78, 197310.13 381518.37, 198070.44 381718.68, 198070.44 381718.68))\n",
      "POLYGON((152609.67 407070.55, 153411.92 408153.16, 153832.03 409601.03, 153853.42 411372.54, 153467.90 413414.32, 152676.64 415660.23, 151492.08 418030.70, 149940.52 420433.04, 148065.02 422763.13, 145927.96 424908.92, 143613.84 426754.27, 141225.76 428190.23, 138880.06 429126.22, 136703.71 429494.34, 134822.33 429260.59, 133348.58 428430.50, 132370.83 427050.36, 131944.23 425203.27, 132085.92 423000.71, 132775.03 420571.13, 133957.14 418047.82, 135554.12 415555.86, 137468.24 413209.00, 139592.68 411103.30, 141822.40 409312.35, 144058.26 407889.71, 146210.78 406871.11, 148202.07 406277.12, 149966.47 406115.73, 151450.04 406384.27, 152609.67 407070.55, 152609.67 407070.55))\n",
      "POLYGON((120131.61 444332.66, 121267.87 445915.72, 121803.56 448091.26, 121713.10 450804.93, 120981.12 453986.64, 119604.88 457547.22, 117598.36 461375.23, 115005.41 465325.12, 111887.69 469239.81, 108341.96 472939.56, 104505.81 476226.79, 100558.22 478897.68, 96709.53 480764.43, 93175.05 481691.30, 90175.47 481589.99, 87905.22 480444.93, 86509.73 478319.60, 86068.60 475351.24, 86588.45 471734.78, 88006.59 467699.48, 90212.59 463474.65, 93043.71 459290.60, 96317.73 455348.25, 99853.90 451806.74, 103484.59 448782.61, 107060.72 446354.93, 110442.60 444583.76, 113521.08 443495.66, 116207.26 443097.98, 118429.74 443383.39, 120131.61 444332.66, 120131.61 444332.66))\n"
     ]
    }
   ],
   "source": [
    "for de605_pointing in de605_pointings:\n",
    "    print(\n",
    "        draw_fov(\n",
    "            loc_de605,\n",
    "            de605_pointing.alt,\n",
    "            de605_pointing.az,\n",
    "            fwhm=6.46 * u.deg,\n",
    "            height=100 * u.km,\n",
    "        )\n",
    "    )"
   ]
  },
  {
   "cell_type": "code",
   "execution_count": 106,
   "metadata": {},
   "outputs": [
    {
     "name": "stdout",
     "output_type": "stream",
     "text": [
      "- alt 53.1˚, az 333.6˚\n",
      "- alt 37.7˚, az 318.8˚\n",
      "- alt 27.5˚, az 319.1˚\n"
     ]
    }
   ],
   "source": [
    "for de605_pointing in de605_pointings:\n",
    "    print(f\"- alt {de605_pointing.alt.deg:.1f}˚, az {de605_pointing.az.deg:.1f}˚\")"
   ]
  },
  {
   "cell_type": "code",
   "execution_count": 107,
   "metadata": {},
   "outputs": [
    {
     "name": "stdout",
     "output_type": "stream",
     "text": [
      "- alt 30.0˚, az 200.0˚\n",
      "- alt 30.0˚, az 220.0˚\n",
      "- alt 30.0˚, az 240.0˚\n"
     ]
    }
   ],
   "source": [
    "for rs305_pointing in rs305_pointings:\n",
    "    print(f\"- alt {rs305_pointing.alt.deg:.1f}˚, az {rs305_pointing.az.deg:.1f}˚\")"
   ]
  },
  {
   "cell_type": "code",
   "execution_count": null,
   "metadata": {},
   "outputs": [],
   "source": []
  }
 ],
 "metadata": {
  "kernelspec": {
   "display_name": "Python 3",
   "language": "python",
   "name": "python3"
  },
  "language_info": {
   "codemirror_mode": {
    "name": "ipython",
    "version": 3
   },
   "file_extension": ".py",
   "mimetype": "text/x-python",
   "name": "python",
   "nbconvert_exporter": "python",
   "pygments_lexer": "ipython3",
   "version": "3.6.10"
  }
 },
 "nbformat": 4,
 "nbformat_minor": 4
}
