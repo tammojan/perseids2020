{
 "cells": [
  {
   "cell_type": "code",
   "execution_count": 1,
   "metadata": {},
   "outputs": [],
   "source": [
    "from astropy.coordinates import EarthLocation, AltAz, ITRS\n",
    "from scipy import interpolate\n",
    "import astropy.units as u\n",
    "import numpy as np\n",
    "from astropy.time import Time"
   ]
  },
  {
   "cell_type": "code",
   "execution_count": 2,
   "metadata": {},
   "outputs": [],
   "source": [
    "from lofarantpos.db import LofarAntennaDatabase"
   ]
  },
  {
   "cell_type": "code",
   "execution_count": 3,
   "metadata": {},
   "outputs": [],
   "source": [
    "from pyproj import Transformer"
   ]
  },
  {
   "cell_type": "code",
   "execution_count": 4,
   "metadata": {},
   "outputs": [],
   "source": [
    "db = LofarAntennaDatabase()"
   ]
  },
  {
   "cell_type": "code",
   "execution_count": 5,
   "metadata": {},
   "outputs": [],
   "source": [
    "loc_rs305 = EarthLocation(*(db.phase_centres[\"RS305LBA\"]*u.m))\n",
    "loc_de605 = EarthLocation(*(db.phase_centres[\"DE605LBA\"]*u.m))"
   ]
  },
  {
   "cell_type": "code",
   "execution_count": 6,
   "metadata": {},
   "outputs": [],
   "source": [
    "dummytime = Time.now()"
   ]
  },
  {
   "cell_type": "code",
   "execution_count": 7,
   "metadata": {},
   "outputs": [],
   "source": [
    "wgs84_to_rds = Transformer.from_crs(4326, 28992)\n",
    "rds_to_wgs84 = Transformer.from_crs(28992, 4326)"
   ]
  },
  {
   "cell_type": "code",
   "execution_count": 8,
   "metadata": {},
   "outputs": [],
   "source": [
    "def distance_from_height(obs_altaz, height=100*u.km):\n",
    "    \"\"\"From an AltAz pointing, find the distance to where it crosses a plane 100 km above Earth\"\"\"\n",
    "    try_distances = np.linspace(50, 1000) * u.km\n",
    "    try_altaz = AltAz(location=obs_altaz.location, obstime=dummytime, az=obs_altaz.az, alt=obs_altaz.alt, distance=try_distances)\n",
    "    try_heights = EarthLocation(*(try_altaz.transform_to(ITRS(obstime=dummytime)).cartesian.xyz)).height\n",
    "    height_to_distance = interpolate.interp1d(try_heights.to(u.km), try_distances.to(u.km))\n",
    "    return height_to_distance(height) * u.km"
   ]
  },
  {
   "cell_type": "code",
   "execution_count": 9,
   "metadata": {},
   "outputs": [],
   "source": [
    "def earthloc_at_height(obs_altaz, height=100*u.km):\n",
    "    \"\"\"From an AltAz pointing, find the EarthLocation at which point the line of sight is exactly at a given height (100km)\"\"\"\n",
    "    distance = distance_from_height(obs_altaz, height)\n",
    "    intersection_altaz = AltAz(location=obs_altaz.location, obstime=dummytime, az=obs_altaz.az, alt=obs_altaz.alt, distance=distance)\n",
    "    return EarthLocation(*(intersection_altaz.transform_to(ITRS(obstime=dummytime)).cartesian.xyz))"
   ]
  },
  {
   "cell_type": "code",
   "execution_count": 10,
   "metadata": {},
   "outputs": [],
   "source": [
    "def draw_fov(\n",
    "    obsloc: EarthLocation, alt0, az0, fwhm=13 * u.deg, height=100 * u.km, num_segments=31\n",
    "):\n",
    "    \"\"\"\n",
    "    Make well-known-text (WKT) representation of beam at a certain height\n",
    "    Coordinate system is rijksdriehoeksstelsel valid in NL\n",
    "    \"\"\"\n",
    "    nodes = []\n",
    "    for angle_offset in np.linspace(0, 360, num_segments) * u.deg:\n",
    "        alt = alt0 + 0.5 * fwhm * np.cos(angle_offset)\n",
    "        az = az0 + 0.5 * fwhm * np.sin(angle_offset)\n",
    "        obs_altaz = AltAz(location=obsloc, obstime=dummytime, alt=alt, az=az)\n",
    "        loc = earthloc_at_height(obs_altaz, height=height)\n",
    "        node = wgs84_to_rds.transform(loc.lat.degree, loc.lon.degree, loc.height.value)[:2]\n",
    "        nodes += [node]\n",
    "    nodes += [nodes[0]]\n",
    "    return \"POLYGON((\" +  \", \".join([f\"{node[0]:.2f} {node[1]:.2f}\" for node in nodes]) + \"))\""
   ]
  },
  {
   "cell_type": "code",
   "execution_count": 11,
   "metadata": {},
   "outputs": [
    {
     "name": "stdout",
     "output_type": "stream",
     "text": [
      "POLYGON((211981.00 399966.27, 210529.72 400005.93, 208974.63 399439.72, 207365.25 398278.90, 205756.39 396552.65, 204207.99 394308.91, 202782.37 391609.40, 201545.28 388541.55, 200562.04 385216.54, 199893.42 381769.09, 199590.32 378354.55, 199688.39 375144.61, 200202.48 372317.71, 201117.77 370029.92, 202393.91 368420.80, 203964.09 367591.22, 205740.00 367592.36, 207619.62 368420.16, 209496.80 370016.58, 211270.70 372277.03, 212855.41 375070.38, 214180.74 378231.85, 215198.12 381592.99, 215880.06 384992.62, 216217.46 388283.24, 216216.21 391336.02, 215893.68 394042.97, 215276.18 396320.41, 214394.37 398097.97, 213283.12 399324.28, 211981.00 399966.27, 211981.00 399966.27))\n",
      "POLYGON((175238.60 414367.42, 173847.04 414781.22, 172198.41 414636.66, 170343.46 413931.79, 168342.69 412680.62, 166266.41 410913.92, 164190.79 408675.21, 162201.95 406031.93, 160391.78 403074.56, 158853.83 399917.52, 157677.47 396697.71, 156941.57 393571.73, 156706.63 390708.10, 156998.73 388261.44, 157815.01 386376.97, 159117.04 385169.42, 160832.74 384711.06, 162862.55 385024.38, 165088.88 386080.76, 167387.29 387805.27, 169640.83 390093.45, 171739.10 392804.33, 173591.58 395787.74, 175130.02 398895.11, 176307.45 401986.32, 177096.22 404935.42, 177485.17 407633.59, 177478.06 409993.20, 177086.28 411938.35, 176330.24 413410.39, 175238.60 414367.42, 175238.60 414367.42))\n",
      "POLYGON((143474.35 437784.74, 142237.25 438544.50, 140607.34 438831.43, 138633.14 438630.51, 136376.71 437939.61, 133913.93 436770.27, 131329.63 435144.81, 128724.47 433106.09, 126210.60 430717.74, 123908.02 428066.08, 121938.48 425260.22, 120418.70 422431.04, 119450.71 419725.67, 119099.73 417286.70, 119400.57 415255.18, 120345.80 413751.86, 121884.49 412865.22, 123926.28 412642.72, 126350.19 413087.14, 129016.62 414158.29, 131785.56 415785.52, 134513.91 417861.23, 137075.36 420263.78, 139365.54 422867.31, 141302.81 425548.64, 142827.90 428193.24, 143901.84 430698.91, 144505.58 432980.02, 144630.52 434960.31, 144281.15 436577.85, 143474.35 437784.74, 143474.35 437784.74))\n"
     ]
    }
   ],
   "source": [
    "for az0 in np.array([195, 210, 225]) * u.deg:\n",
    "    print(draw_fov(loc_rs305, 30 * u.deg, az0, fwhm=5.16*u.deg, height=100*u.km))"
   ]
  },
  {
   "cell_type": "code",
   "execution_count": 12,
   "metadata": {},
   "outputs": [],
   "source": [
    "de605_pointings = []\n",
    "for rs305_az in np.array([195, 210, 225]) * u.deg:\n",
    "    rs305_altaz_far = AltAz(location=loc_rs305, alt=30 * u.deg, az=rs305_az)\n",
    "    rs305_altaz_near = AltAz(\n",
    "        location=loc_rs305,\n",
    "        alt=30 * u.deg,\n",
    "        az=rs305_az,\n",
    "        distance=distance_from_height(rs305_altaz_far, 100 * u.km),\n",
    "        obstime=dummytime,\n",
    "    )\n",
    "    de605_altaz_near = rs305_altaz_near.transform_to(\n",
    "        AltAz(location=loc_de605, obstime=dummytime)\n",
    "    )\n",
    "    de605_pointings.append(de605_altaz_near)"
   ]
  },
  {
   "cell_type": "code",
   "execution_count": 13,
   "metadata": {},
   "outputs": [
    {
     "data": {
      "text/plain": [
       "[<AltAz Coordinate (obstime=2020-12-07 21:12:32.636132, location=(4005681.742, 450968.282, 4926457.67) m, pressure=0.0 hPa, temperature=0.0 deg_C, relative_humidity=0.0, obswl=1.0 micron): (az, alt, distance) in (deg, deg, m)\n",
       "     (343.06082359, 56.67672373, 119108.1677347)>,\n",
       " <AltAz Coordinate (obstime=2020-12-07 21:12:32.636132, location=(4005681.742, 450968.282, 4926457.67) m, pressure=0.0 hPa, temperature=0.0 deg_C, relative_humidity=0.0, obswl=1.0 micron): (az, alt, distance) in (deg, deg, m)\n",
       "     (322.90088284, 44.90473886, 140371.98250258)>,\n",
       " <AltAz Coordinate (obstime=2020-12-07 21:12:32.636132, location=(4005681.742, 450968.282, 4926457.67) m, pressure=0.0 hPa, temperature=0.0 deg_C, relative_humidity=0.0, obswl=1.0 micron): (az, alt, distance) in (deg, deg, m)\n",
       "     (318.08824405, 34.6037656, 173076.6850057)>]"
      ]
     },
     "execution_count": 13,
     "metadata": {},
     "output_type": "execute_result"
    }
   ],
   "source": [
    "de605_pointings"
   ]
  },
  {
   "cell_type": "code",
   "execution_count": 14,
   "metadata": {},
   "outputs": [
    {
     "name": "stdout",
     "output_type": "stream",
     "text": [
      "POLYGON((210574.52 377705.07, 211162.90 378058.00, 211639.78 378698.97, 211991.53 379607.37, 212206.13 380752.40, 212273.10 382093.12, 212183.96 383578.92, 211933.36 385150.42, 211520.81 386740.99, 210952.59 388279.02, 210243.55 389691.11, 209418.42 390906.09, 208511.98 391859.65, 207567.97 392499.23, 206636.53 392788.55, 205770.37 392710.95, 205020.18 392271.12, 204429.95 391494.68, 204032.91 390425.80, 203848.80 389123.14, 203882.72 387654.88, 204125.62 386093.56, 204556.30 384511.50, 205144.22 382977.08, 205852.91 381552.23, 206643.26 380290.90, 207476.43 379238.33, 208316.14 378430.81, 209130.07 377895.56, 209890.56 377650.70, 210574.52 377705.07, 210574.52 377705.07))\n",
      "POLYGON((174095.41 392670.17, 174779.01 393466.83, 175185.81 394569.29, 175301.90 395944.40, 175119.79 397548.46, 174638.80 399326.82, 173866.18 401213.84, 172818.76 403133.73, 171524.92 405002.42, 170026.38 406730.70, 168379.32 408228.87, 166654.00 409412.77, 164932.62 410210.45, 163305.39 410568.49, 161861.51 410461.38, 160684.49 409891.21, 159843.24 408889.86, 159385.57 407516.34, 159333.98 405851.07, 159685.58 403986.81, 160410.69 402024.08, 161459.70 400060.20, 162768.20 398183.94, 164263.00 396471.70, 165867.85 394985.83, 167508.15 393774.42, 169114.54 392872.37, 170625.18 392302.78, 171986.90 392078.40, 173155.50 392202.65, 174095.41 392670.17, 174095.41 392670.17))\n",
      "POLYGON((143080.21 415427.35, 143954.42 416645.70, 144391.62 418273.62, 144373.42 420265.69, 143890.53 422563.87, 142944.58 425095.47, 141552.43 427769.68, 139741.49 430486.97, 137561.39 433130.81, 135084.47 435574.45, 132407.49 437687.09, 129650.54 439342.89, 126952.53 440432.17, 124464.25 440871.34, 122331.20 440619.56, 120681.95 439682.89, 119616.89 438113.58, 119196.10 436007.51, 119435.86 433492.37, 120307.05 430716.41, 121738.34 427836.63, 123631.44 425000.18, 125870.46 422336.82, 128332.70 419953.39, 130897.53 417932.09, 133452.75 416331.67, 135901.28 415187.38, 138153.96 414523.21, 140138.42 414346.60, 141796.09 414652.88, 143080.21 415427.35, 143080.21 415427.35))\n"
     ]
    }
   ],
   "source": [
    "for de605_pointing in de605_pointings:\n",
    "    print(\n",
    "        draw_fov(\n",
    "            loc_de605,\n",
    "            de605_pointing.alt,\n",
    "            de605_pointing.az,\n",
    "            fwhm=6.46 * u.deg,\n",
    "            height=100 * u.km,\n",
    "        )\n",
    "    )"
   ]
  },
  {
   "cell_type": "code",
   "execution_count": null,
   "metadata": {},
   "outputs": [],
   "source": []
  }
 ],
 "metadata": {
  "kernelspec": {
   "display_name": "Python 3",
   "language": "python",
   "name": "python3"
  },
  "language_info": {
   "codemirror_mode": {
    "name": "ipython",
    "version": 3
   },
   "file_extension": ".py",
   "mimetype": "text/x-python",
   "name": "python",
   "nbconvert_exporter": "python",
   "pygments_lexer": "ipython3",
   "version": "3.6.10"
  }
 },
 "nbformat": 4,
 "nbformat_minor": 4
}
